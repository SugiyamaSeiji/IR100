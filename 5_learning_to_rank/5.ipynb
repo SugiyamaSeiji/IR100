{
 "cells": [
  {
   "cell_type": "markdown",
   "metadata": {},
   "source": [
    "### 1.　特徴量"
   ]
  },
  {
   "cell_type": "code",
   "execution_count": 62,
   "metadata": {},
   "outputs": [],
   "source": [
    "import pandas as pd\n",
    "import numpy as np\n",
    "import os\n"
   ]
  },
  {
   "cell_type": "code",
   "execution_count": 63,
   "metadata": {},
   "outputs": [],
   "source": [
    "col_query = \"query\"\n",
    "col_query_id = \"query_id\"\n",
    "col_product_id = \"product_id\" \n",
    "col_product_title = \"product_title\"\n",
    "col_product_locale = \"product_locale\"\n",
    "col_esci_label = \"esci_label\" \n",
    "col_small_version = \"small_version\"\n",
    "col_split = \"split\"\n",
    "col_gain = 'gain'\n",
    "\n",
    "dataset_path = '/home/sugiyama/ir/esci-data/shopping_queries_dataset'\n",
    "df_examples = pd.read_parquet(os.path.join(dataset_path, 'shopping_queries_dataset_examples.parquet'))\n",
    "df_products = pd.read_parquet(os.path.join(dataset_path, 'shopping_queries_dataset_products.parquet'))\n",
    "df_examples_products = pd.merge(\n",
    "    df_examples,\n",
    "    df_products,\n",
    "    how='left',\n",
    "    left_on=[col_product_locale, col_product_id],\n",
    "    right_on=[col_product_locale, col_product_id]\n",
    ")\n",
    "\n",
    "train = df_examples_products[df_examples_products[col_split] == \"train\"] # 学習データ\n",
    "test = df_examples_products[df_examples_products[col_split] == \"test\"] # テストデータ\n",
    "\n",
    "train = train[train[col_product_locale] == 'us'][:7000]\n",
    "test = test[test[col_product_locale] == 'us']"
   ]
  },
  {
   "cell_type": "markdown",
   "metadata": {},
   "source": [
    "### 2. 前処理"
   ]
  },
  {
   "cell_type": "markdown",
   "metadata": {},
   "source": [
    "tfの計算"
   ]
  },
  {
   "cell_type": "code",
   "execution_count": 64,
   "metadata": {},
   "outputs": [],
   "source": [
    "# from sklearn.feature_extraction.text import CountVectorizer\n",
    "# import numpy as np\n",
    "\n",
    "# train_product_title = train['product_title'].tolist()\n",
    "\n",
    "# wc = CountVectorizer()\n",
    "# x = wc.fit_transform(train_product_title)\n",
    "# wcX = np.array(x)"
   ]
  },
  {
   "cell_type": "markdown",
   "metadata": {},
   "source": [
    "tf-idfの計算"
   ]
  },
  {
   "cell_type": "code",
   "execution_count": 65,
   "metadata": {},
   "outputs": [],
   "source": [
    "from sklearn.feature_extraction.text import TfidfVectorizer\n",
    "\n",
    "train_product_title = train['product_title'].tolist()\n",
    "\n",
    "def tf_idf(docs):\n",
    "    vectorizer = TfidfVectorizer(smooth_idf=False)\n",
    "    X = vectorizer.fit_transform(docs)\n",
    "\n",
    "    values = X.toarray()\n",
    "    feature_names = vectorizer.get_feature_names()\n",
    "    idf = vectorizer.idf_\n",
    "    tfidf_df = pd.DataFrame(values, columns = feature_names)\n",
    "\n",
    "    return values, feature_names, idf, tfidf_df"
   ]
  },
  {
   "cell_type": "code",
   "execution_count": 66,
   "metadata": {},
   "outputs": [],
   "source": [
    "values, feature_names, idf, tfidf = tf_idf(train_product_title)"
   ]
  },
  {
   "cell_type": "code",
   "execution_count": 67,
   "metadata": {},
   "outputs": [],
   "source": [
    "tfidf_sum = np.sum(values,axis=1)\n",
    "tfidf_max = np.max(values, axis=1)\n",
    "tfidf_std = np.std(values, axis=1)\n",
    "tfidf_var = np.var(values, axis=1)\n"
   ]
  },
  {
   "cell_type": "code",
   "execution_count": 68,
   "metadata": {},
   "outputs": [],
   "source": [
    "train['tfidf_sum'] = tfidf_sum\n",
    "train['tfidf_max'] = tfidf_max\n",
    "train['tfidf_std'] = tfidf_std\n",
    "train['tfidf_var'] = tfidf_var"
   ]
  },
  {
   "cell_type": "code",
   "execution_count": 69,
   "metadata": {},
   "outputs": [],
   "source": [
    "train_title_set = set()\n",
    "for text in train_product_title:\n",
    "    texts = text.split()\n",
    "    for i in texts:\n",
    "        train_title_set.add(i)"
   ]
  },
  {
   "cell_type": "code",
   "execution_count": 70,
   "metadata": {},
   "outputs": [],
   "source": [
    "### テストデータに適用\n",
    "\n",
    "from sklearn.feature_extraction.text import TfidfVectorizer\n",
    "\n",
    "test_product_title = test['product_title'].tolist()\n",
    "\n",
    "def for_text(title_set, test_titles):\n",
    "\n",
    "    result = []\n",
    "    for title in test_titles:\n",
    "        texts = title.split()\n",
    "        tem = ''\n",
    "        for i in texts:\n",
    "            if i in title_set:\n",
    "                tem += i + ' '\n",
    "        result.append(tem)\n",
    "    \n",
    "    return result\n",
    "\n",
    "test['for_test_on_train'] = for_text(train_title_set, test_product_title)"
   ]
  },
  {
   "cell_type": "code",
   "execution_count": 71,
   "metadata": {},
   "outputs": [],
   "source": [
    "test_product_title = test['for_test_on_train'].tolist()\n",
    "\n",
    "values, feature_names, idf, tfidf = tf_idf(test_product_title)\n",
    "\n",
    "tfidf_sum = np.sum(values,axis=1)\n",
    "tfidf_max = np.max(values, axis=1)\n",
    "tfidf_std = np.std(values, axis=1)\n",
    "tfidf_var = np.var(values, axis=1)\n",
    "\n",
    "test['tfidf_sum'] = tfidf_sum\n",
    "test['tfidf_max'] = tfidf_max\n",
    "test['tfidf_std'] = tfidf_std\n",
    "test['tfidf_var'] = tfidf_var"
   ]
  },
  {
   "cell_type": "markdown",
   "metadata": {},
   "source": [
    "BM25を計測する"
   ]
  },
  {
   "cell_type": "code",
   "execution_count": 72,
   "metadata": {},
   "outputs": [],
   "source": [
    "# # BM25の計測\n",
    "# from rank_bm25 import BM25Okapi\n",
    "\n",
    "# train_product_title = train['product_title'].tolist()\n",
    "\n",
    "# def caluculate_idf(title):\n",
    "#     titles = [ i.split() for i in title]\n",
    "#     bm25 = BM25Okapi(titles)\n",
    "#     return bm25\n",
    "\n",
    "# bm25 = caluculate_idf(train_product_title)"
   ]
  },
  {
   "cell_type": "code",
   "execution_count": 73,
   "metadata": {},
   "outputs": [],
   "source": [
    "# queries = train['query'].str.split()\n",
    "\n",
    "# # すべてのBM25スコアを一度に計算する\n",
    "# all_bm25_scores = [bm25.get_scores(query) for query in queries]\n",
    "\n",
    "# # 各queryに対するBM25スコアのリストから、対応する位置のスコアを取得する\n",
    "# result = [scores[i] for scores, i in zip(all_bm25_scores, range(len(queries)))]\n"
   ]
  },
  {
   "cell_type": "code",
   "execution_count": 74,
   "metadata": {},
   "outputs": [],
   "source": [
    "# with open(\"/home/sugiyama/ir/data/bm25socre_for_5/bm25.txt\", \"w\") as f:\n",
    "#     for i in result:\n",
    "#         f.write(str(i))\n",
    "#         f.write(\"\\n\")"
   ]
  },
  {
   "cell_type": "markdown",
   "metadata": {},
   "source": [
    "フィールド長を計測する"
   ]
  },
  {
   "cell_type": "code",
   "execution_count": 75,
   "metadata": {},
   "outputs": [],
   "source": [
    "# フィールド長\n",
    "def length_of_field(text):\n",
    "    texts = str(text).split()\n",
    "\n",
    "    return len(texts)\n",
    "\n",
    "train['product_title_len'] = train['product_title'].apply(length_of_field)\n",
    "train['product_description_len'] = train['product_description'].apply(length_of_field)\n",
    "\n",
    "test['product_title_len'] = test['product_title'].apply(length_of_field)\n",
    "test['product_description_len'] = test['product_description'].apply(length_of_field)"
   ]
  },
  {
   "cell_type": "markdown",
   "metadata": {},
   "source": [
    "### 2.　前処理"
   ]
  },
  {
   "cell_type": "code",
   "execution_count": 76,
   "metadata": {},
   "outputs": [],
   "source": [
    "def normalize(data):\n",
    "    max_value = data.max()\n",
    "    min_value = data.min()\n",
    "    return (data - min_value) /(max_value - min_value)"
   ]
  },
  {
   "cell_type": "code",
   "execution_count": 77,
   "metadata": {},
   "outputs": [],
   "source": [
    "train['tfidf_sum'] = normalize(train['tfidf_sum'])\n",
    "train['tfidf_max'] = normalize(train['tfidf_max'])\n",
    "train['tfidf_std'] = normalize(train['tfidf_std'])\n",
    "train['tfidf_var'] = normalize(train['tfidf_var'])"
   ]
  },
  {
   "cell_type": "code",
   "execution_count": 78,
   "metadata": {},
   "outputs": [],
   "source": [
    "test['tfidf_sum'] = normalize(test['tfidf_sum'])\n",
    "test['tfidf_max'] = normalize(test['tfidf_max'])\n",
    "test['tfidf_std'] = normalize(test['tfidf_std'])\n",
    "test['tfidf_var'] = normalize(test['tfidf_var'])"
   ]
  },
  {
   "cell_type": "markdown",
   "metadata": {},
   "source": [
    "### 3. 線形モデル"
   ]
  },
  {
   "cell_type": "code",
   "execution_count": 79,
   "metadata": {},
   "outputs": [],
   "source": [
    "gain = {'E': 4, 'S': 2, 'C': 1, 'I': 0}\n",
    "train['int_label'] = train['esci_label'].apply(lambda x: gain[x])\n",
    "test['int_label'] = test['esci_label'].apply(lambda x: gain[x])"
   ]
  },
  {
   "cell_type": "code",
   "execution_count": 80,
   "metadata": {},
   "outputs": [
    {
     "name": "stderr",
     "output_type": "stream",
     "text": [
      "/home/sugiyama/anaconda3/envs/ir100/lib/python3.9/site-packages/sklearn/linear_model/_logistic.py:763: ConvergenceWarning: lbfgs failed to converge (status=1):\n",
      "STOP: TOTAL NO. of ITERATIONS REACHED LIMIT.\n",
      "\n",
      "Increase the number of iterations (max_iter) or scale the data as shown in:\n",
      "    https://scikit-learn.org/stable/modules/preprocessing.html\n",
      "Please also refer to the documentation for alternative solver options:\n",
      "    https://scikit-learn.org/stable/modules/linear_model.html#logistic-regression\n",
      "  n_iter_i = _check_optimize_result(\n"
     ]
    }
   ],
   "source": [
    "from sklearn.model_selection import train_test_split\n",
    "from sklearn.linear_model import LogisticRegression\n",
    "\n",
    "X = train[['tfidf_sum', 'tfidf_max', 'tfidf_std', 'tfidf_var', 'product_title_len', 'product_description_len']]\n",
    "y = train['int_label']\n",
    "\n",
    "X_train, X_test, y_train, y_test = train_test_split(X, y, test_size=0.2, random_state=42)\n",
    "\n",
    "model = LogisticRegression()\n",
    "model.fit(X_train, y_train)\n",
    "\n",
    "y_pred = model.predict(X_test)\n"
   ]
  },
  {
   "cell_type": "markdown",
   "metadata": {},
   "source": [
    "### 4. ランキングモデルの評価"
   ]
  },
  {
   "cell_type": "code",
   "execution_count": 81,
   "metadata": {},
   "outputs": [],
   "source": [
    "test_x = test[['tfidf_sum', 'tfidf_max', 'tfidf_std', 'tfidf_var', 'product_title_len', 'product_description_len']]\n",
    "test_y = test['int_label']\n",
    "\n",
    "y_pred_test = model.predict(test_x)\n",
    "test['pred_test'] = y_pred_test\n",
    "test = test.sort_values(by=['query_id'], ascending=False)\n"
   ]
  },
  {
   "cell_type": "code",
   "execution_count": 82,
   "metadata": {},
   "outputs": [],
   "source": [
    "def ndcg(y_true, y_pred, k=None, powered=False):\n",
    "    def dcg(scores, k=None, powered=False):\n",
    "        if k is None:\n",
    "            k = scores.shape[0]\n",
    "        if not powered:\n",
    "            ret = scores[0]\n",
    "            for i in range(1, k):\n",
    "                ret += scores[i] / np.log2(i + 1)\n",
    "            return ret\n",
    "        else:\n",
    "            ret = 0\n",
    "            for i in range(k):\n",
    "                ret += (2 ** scores[i] - 1) / np.log2(i + 2)\n",
    "            return ret\n",
    "    \n",
    "    ideal_sorted_scores = np.sort(y_true)[::-1]\n",
    "    ideal_dcg_score = dcg(ideal_sorted_scores, k=k, powered=powered)\n",
    "    \n",
    "    pred_sorted_ind = np.argsort(y_pred)[::-1]\n",
    "    pred_sorted_scores = y_true[pred_sorted_ind]\n",
    "    dcg_score = dcg(pred_sorted_scores, k=k, powered=powered)\n",
    "    \n",
    "    return dcg_score / ideal_dcg_score"
   ]
  },
  {
   "cell_type": "code",
   "execution_count": 83,
   "metadata": {},
   "outputs": [],
   "source": [
    "def ndcg1(y_true, y_pred, k=None):\n",
    "    return ndcg(y_true, y_pred, k=k, powered=False)"
   ]
  },
  {
   "cell_type": "code",
   "execution_count": 84,
   "metadata": {},
   "outputs": [],
   "source": [
    "def avg_ndcg(data, id_list):\n",
    "    sum = 0\n",
    "    for id in id_list:\n",
    "        df = data[data[\"query_id\"] == id]\n",
    "        \n",
    "        sum += ndcg1(np.array(df['int_label'].tolist()), np.array(df['pred_test'].tolist()))\n",
    "\n",
    "    return sum / len(id_list)"
   ]
  },
  {
   "cell_type": "code",
   "execution_count": 85,
   "metadata": {},
   "outputs": [
    {
     "data": {
      "text/plain": [
       "0.897875351120962"
      ]
     },
     "execution_count": 85,
     "metadata": {},
     "output_type": "execute_result"
    }
   ],
   "source": [
    "test_query_id_list = set(test['query_id'])\n",
    "\n",
    "ndcg_result = avg_ndcg(test, test_query_id_list)\n",
    "ndcg_result"
   ]
  },
  {
   "cell_type": "markdown",
   "metadata": {},
   "source": [
    "### 5. 決定木"
   ]
  },
  {
   "cell_type": "code",
   "execution_count": 86,
   "metadata": {},
   "outputs": [],
   "source": [
    "gain = {'E': 3, 'S': 2, 'C': 1, 'I': 0}\n",
    "train['int_label'] = train['esci_label'].apply(lambda x: gain[x])\n",
    "test['int_label'] = test['esci_label'].apply(lambda x: gain[x])"
   ]
  },
  {
   "cell_type": "code",
   "execution_count": 87,
   "metadata": {},
   "outputs": [],
   "source": [
    "train_x = train[['query_id','tfidf_sum', 'tfidf_max', 'tfidf_std', 'tfidf_var', 'product_title_len', 'product_description_len']]\n",
    "train_y = train['int_label']\n",
    "\n",
    "test_x = test[['query_id','tfidf_sum', 'tfidf_max', 'tfidf_std', 'tfidf_var', 'product_title_len', 'product_description_len']]\n",
    "test_y = test['int_label']"
   ]
  },
  {
   "cell_type": "code",
   "execution_count": 88,
   "metadata": {},
   "outputs": [],
   "source": [
    "import xgboost as xgb\n",
    "import numpy as np\n",
    "\n",
    "clf = xgb.XGBClassifier(max_depth=3, learning_rate=0.01, n_estimators=100)\n",
    "\n",
    "clf.fit(train_x, train_y)\n",
    "\n",
    "predictions = clf.predict(test_x)"
   ]
  },
  {
   "cell_type": "code",
   "execution_count": 89,
   "metadata": {},
   "outputs": [],
   "source": [
    "gain = {3: 4, 2: 2, 1: 1, 0: 0}\n",
    "test['pred_test_xgboost'] = predictions\n",
    "test['int_label'] = test['int_label'].apply(lambda x: gain[x])\n",
    "test['pred_test_xgboost'] = test['pred_test_xgboost'].apply(lambda x: gain[x])"
   ]
  },
  {
   "cell_type": "code",
   "execution_count": 90,
   "metadata": {},
   "outputs": [],
   "source": [
    "def avg_ndcg_for_xgboost(data, id_list):\n",
    "    sum = 0\n",
    "    for id in id_list:\n",
    "        df = data[data[\"query_id\"] == id]\n",
    "        \n",
    "        sum += ndcg1(np.array(df['int_label'].tolist()), np.array(df['pred_test_xgboost'].tolist()))\n",
    "\n",
    "    return sum / len(id_list)"
   ]
  },
  {
   "cell_type": "code",
   "execution_count": 91,
   "metadata": {},
   "outputs": [],
   "source": [
    "test_query_id_list = set(test['query_id'])\n",
    "\n",
    "ndcg_result = avg_ndcg_for_xgboost(test, test_query_id_list)"
   ]
  },
  {
   "cell_type": "code",
   "execution_count": 92,
   "metadata": {},
   "outputs": [
    {
     "data": {
      "text/plain": [
       "0.8965599400211411"
      ]
     },
     "execution_count": 92,
     "metadata": {},
     "output_type": "execute_result"
    }
   ],
   "source": [
    "ndcg_result"
   ]
  },
  {
   "cell_type": "markdown",
   "metadata": {},
   "source": [
    "### 6. バリデーションデータと学習率"
   ]
  },
  {
   "cell_type": "code",
   "execution_count": 93,
   "metadata": {},
   "outputs": [],
   "source": [
    "from sklearn.model_selection import train_test_split\n",
    "import xgboost as xgb\n",
    "from xgboost import DMatrix\n",
    "\n",
    "gain = {'E': 3, 'S': 2, 'C': 1, 'I': 0}\n",
    "train['int_label'] = train['esci_label'].apply(lambda x: gain[x])\n",
    "test['int_label'] = test['esci_label'].apply(lambda x: gain[x])\n",
    "\n",
    "x = train[['tfidf_sum', 'tfidf_max', 'tfidf_std', 'tfidf_var', 'product_title_len', 'product_description_len']]\n",
    "y = train['int_label']\n",
    "\n",
    "train_x, valid_x, train_y, valid_y = train_test_split(x, y, test_size=0.2, random_state=42)\n",
    "\n",
    "test_x = test[['tfidf_sum', 'tfidf_max', 'tfidf_std', 'tfidf_var', 'product_title_len', 'product_description_len']]\n",
    "test_y = test['int_label']\n"
   ]
  },
  {
   "cell_type": "code",
   "execution_count": 94,
   "metadata": {},
   "outputs": [
    {
     "name": "stdout",
     "output_type": "stream",
     "text": [
      "[0]\tvalidation_0-mlogloss:1.32020\n",
      "[1]\tvalidation_0-mlogloss:1.27734\n",
      "[2]\tvalidation_0-mlogloss:1.24745\n",
      "[3]\tvalidation_0-mlogloss:1.22782\n",
      "[4]\tvalidation_0-mlogloss:1.21318\n",
      "[5]\tvalidation_0-mlogloss:1.20077\n",
      "[6]\tvalidation_0-mlogloss:1.19222\n",
      "[7]\tvalidation_0-mlogloss:1.18533\n",
      "[8]\tvalidation_0-mlogloss:1.17971\n",
      "[9]\tvalidation_0-mlogloss:1.17606\n",
      "[10]\tvalidation_0-mlogloss:1.17395\n",
      "[11]\tvalidation_0-mlogloss:1.17260\n",
      "[12]\tvalidation_0-mlogloss:1.17056\n",
      "[13]\tvalidation_0-mlogloss:1.17075\n"
     ]
    },
    {
     "name": "stderr",
     "output_type": "stream",
     "text": [
      "/home/sugiyama/anaconda3/envs/ir100/lib/python3.9/site-packages/xgboost/sklearn.py:889: UserWarning: `early_stopping_rounds` in `fit` method is deprecated for better compatibility with scikit-learn, use `early_stopping_rounds` in constructor or`set_params` instead.\n",
      "  warnings.warn(\n"
     ]
    }
   ],
   "source": [
    "from xgboost import XGBClassifier as XGB\n",
    "\n",
    "clf = XGB()\n",
    "clf.fit(train_x, train_y, eval_set =[(valid_x, valid_y)], early_stopping_rounds=1)\n",
    "\n",
    "y_pred = clf.predict(test_x)\n",
    "test['pred_test_xgboost'] = y_pred"
   ]
  },
  {
   "cell_type": "code",
   "execution_count": null,
   "metadata": {},
   "outputs": [],
   "source": [
    "gain = {3: 4, 2: 2, 1: 1, 0: 0}\n",
    "test['int_label'] = test['int_label'].apply(lambda x: gain[x])\n",
    "test['pred_test_xgboost'] = test['pred_test_xgboost'].apply(lambda x: gain[x])\n",
    "\n",
    "test_query_id_list = set(test['query_id'])\n",
    "\n",
    "ndcg_result = avg_ndcg_for_xgboost(test, test_query_id_list)"
   ]
  },
  {
   "cell_type": "code",
   "execution_count": 96,
   "metadata": {},
   "outputs": [
    {
     "data": {
      "text/plain": [
       "0.8962326784631502"
      ]
     },
     "execution_count": 96,
     "metadata": {},
     "output_type": "execute_result"
    }
   ],
   "source": [
    "ndcg_result"
   ]
  },
  {
   "cell_type": "markdown",
   "metadata": {},
   "source": [
    "### 7. 特徴選択"
   ]
  },
  {
   "cell_type": "code",
   "execution_count": null,
   "metadata": {},
   "outputs": [],
   "source": [
    "from matplotlib import pyplot as plt\n",
    "\n",
    "_, ax = plt.subplots(figsize=(12, 4))\n",
    "xgb.plot_importance(clf,\n",
    "                    ax=ax,\n",
    "                    importance_type='gain',\n",
    "                    show_values=False)\n",
    "plt.show()"
   ]
  },
  {
   "cell_type": "markdown",
   "metadata": {},
   "source": [
    "### 8. BERT"
   ]
  },
  {
   "cell_type": "code",
   "execution_count": null,
   "metadata": {},
   "outputs": [],
   "source": [
    "gain = {'E': 3, 'S': 2, 'C': 1, 'I': 0}\n",
    "train['int_label'] = train['esci_label'].apply(lambda x: gain[x])\n",
    "test['int_label'] = test['esci_label'].apply(lambda x: gain[x])"
   ]
  },
  {
   "cell_type": "code",
   "execution_count": 1,
   "metadata": {},
   "outputs": [
    {
     "name": "stderr",
     "output_type": "stream",
     "text": [
      "/home/sugiyama/anaconda3/envs/ir100/lib/python3.9/site-packages/tqdm/auto.py:21: TqdmWarning: IProgress not found. Please update jupyter and ipywidgets. See https://ipywidgets.readthedocs.io/en/stable/user_install.html\n",
      "  from .autonotebook import tqdm as notebook_tqdm\n",
      "2024-04-30 13:44:11.951173: I tensorflow/core/platform/cpu_feature_guard.cc:210] This TensorFlow binary is optimized to use available CPU instructions in performance-critical operations.\n",
      "To enable the following instructions: AVX2 FMA, in other operations, rebuild TensorFlow with the appropriate compiler flags.\n",
      "2024-04-30 13:44:13.274202: W tensorflow/compiler/tf2tensorrt/utils/py_utils.cc:38] TF-TRT Warning: Could not find TensorRT\n"
     ]
    }
   ],
   "source": [
    "from transformers import AutoTokenizer, AutoModelForSequenceClassification\n",
    "from transformers import TrainingArguments, Trainer\n",
    "from sklearn.model_selection import train_test_split\n",
    "from datasets import Dataset, load_metric\n",
    "import pandas as pd\n",
    "import numpy as np\n",
    "import torch"
   ]
  },
  {
   "cell_type": "code",
   "execution_count": 2,
   "metadata": {},
   "outputs": [
    {
     "name": "stderr",
     "output_type": "stream",
     "text": [
      "/home/sugiyama/anaconda3/envs/ir100/lib/python3.9/site-packages/transformers/configuration_utils.py:336: UserWarning: Passing `gradient_checkpointing` to a config initialization is deprecated and will be removed in v5 Transformers. Using `model.gradient_checkpointing_enable()` instead, or if you are using the `Trainer` API, pass `gradient_checkpointing=True` in your `TrainingArguments`.\n",
      "  warnings.warn(\n"
     ]
    }
   ],
   "source": [
    "checkpoint = \"bert-base-multilingual-uncased\"\n",
    "tokenizer = AutoTokenizer.from_pretrained(checkpoint)"
   ]
  },
  {
   "cell_type": "code",
   "execution_count": 3,
   "metadata": {},
   "outputs": [],
   "source": [
    "def tokenize_function(batch):\n",
    "    text = batch['product_title'] + batch['query']\n",
    "    tokenized_batch = tokenizer(text, max_length=384,  truncation=True)\n",
    "    tokenized_batch['labels'] = batch['int_label']\n",
    "    return tokenized_batch"
   ]
  },
  {
   "cell_type": "code",
   "execution_count": null,
   "metadata": {},
   "outputs": [],
   "source": [
    "x = train[['product_title', 'query']]\n",
    "y = train['int_label']\n",
    "\n",
    "train_x, valid_x, train_y, valid_y = train_test_split(x, y, test_size=0.2, random_state=42)\n",
    "\n",
    "train_dataset = Dataset.from_pandas(pd.concat([train_x, train_y], axis=1))\n",
    "dev_dataset = Dataset.from_pandas(pd.concat([valid_x, valid_y], axis=1))\n",
    "test_dataset = Dataset.from_pandas(test[['product_title', 'query', 'int_label']])"
   ]
  },
  {
   "cell_type": "code",
   "execution_count": null,
   "metadata": {},
   "outputs": [
    {
     "name": "stderr",
     "output_type": "stream",
     "text": [
      "100%|██████████| 5600/5600 [00:01<00:00, 3450.92ex/s]\n",
      "100%|██████████| 1400/1400 [00:00<00:00, 3691.72ex/s]\n",
      "100%|██████████| 425762/425762 [01:47<00:00, 3959.06ex/s]\n"
     ]
    }
   ],
   "source": [
    "train_tokenized_dataset = train_dataset.map(tokenize_function, remove_columns=train_dataset.column_names)\n",
    "dev_tokenized_dataset = dev_dataset.map(tokenize_function, remove_columns=dev_dataset.column_names)\n",
    "test_tokenized_dataset = test_dataset.map(tokenize_function, remove_columns=test_dataset.column_names)"
   ]
  },
  {
   "cell_type": "code",
   "execution_count": null,
   "metadata": {},
   "outputs": [],
   "source": [
    "from transformers import DataCollatorWithPadding\n",
    "\n",
    "data_collator = DataCollatorWithPadding(tokenizer=tokenizer)"
   ]
  },
  {
   "cell_type": "code",
   "execution_count": null,
   "metadata": {},
   "outputs": [
    {
     "name": "stderr",
     "output_type": "stream",
     "text": [
      "loading configuration file https://huggingface.co/bert-base-multilingual-uncased/resolve/main/config.json from cache at /home/sugiyama/.cache/huggingface/transformers/af4e101d208f361f141144dca21e9c4148aaf0e85441c2e335743d10829c6cad.d63adade93e44e64bedd306ec82ffd33eedabaf0ff08aabe581acaa48616a508\n",
      "/home/sugiyama/anaconda3/envs/ir100/lib/python3.9/site-packages/transformers/configuration_utils.py:336: UserWarning: Passing `gradient_checkpointing` to a config initialization is deprecated and will be removed in v5 Transformers. Using `model.gradient_checkpointing_enable()` instead, or if you are using the `Trainer` API, pass `gradient_checkpointing=True` in your `TrainingArguments`.\n",
      "  warnings.warn(\n",
      "Model config BertConfig {\n",
      "  \"architectures\": [\n",
      "    \"BertForMaskedLM\"\n",
      "  ],\n",
      "  \"attention_probs_dropout_prob\": 0.2,\n",
      "  \"classifier_dropout\": null,\n",
      "  \"directionality\": \"bidi\",\n",
      "  \"hidden_act\": \"gelu\",\n",
      "  \"hidden_dropout_prob\": 0.2,\n",
      "  \"hidden_size\": 768,\n",
      "  \"id2label\": {\n",
      "    \"0\": \"LABEL_0\",\n",
      "    \"1\": \"LABEL_1\",\n",
      "    \"2\": \"LABEL_2\",\n",
      "    \"3\": \"LABEL_3\"\n",
      "  },\n",
      "  \"initializer_range\": 0.02,\n",
      "  \"intermediate_size\": 3072,\n",
      "  \"label2id\": {\n",
      "    \"LABEL_0\": 0,\n",
      "    \"LABEL_1\": 1,\n",
      "    \"LABEL_2\": 2,\n",
      "    \"LABEL_3\": 3\n",
      "  },\n",
      "  \"layer_norm_eps\": 1e-12,\n",
      "  \"max_position_embeddings\": 512,\n",
      "  \"model_type\": \"bert\",\n",
      "  \"num_attention_heads\": 12,\n",
      "  \"num_hidden_layers\": 12,\n",
      "  \"pad_token_id\": 0,\n",
      "  \"pooler_fc_size\": 768,\n",
      "  \"pooler_num_attention_heads\": 12,\n",
      "  \"pooler_num_fc_layers\": 3,\n",
      "  \"pooler_size_per_head\": 128,\n",
      "  \"pooler_type\": \"first_token_transform\",\n",
      "  \"position_embedding_type\": \"absolute\",\n",
      "  \"transformers_version\": \"4.11.0\",\n",
      "  \"type_vocab_size\": 2,\n",
      "  \"use_cache\": true,\n",
      "  \"vocab_size\": 105879\n",
      "}\n",
      "\n",
      "loading weights file https://huggingface.co/bert-base-multilingual-uncased/resolve/main/pytorch_model.bin from cache at /home/sugiyama/.cache/huggingface/transformers/37f730c9dc4fc13ab6bf412fdc0ad936241a39a70628c2d4a85a607ea775b865.a458b2dad7b293099dd815628e032e6c22519889d75f13d6f244dbe068525a56\n",
      "Some weights of the model checkpoint at bert-base-multilingual-uncased were not used when initializing BertForSequenceClassification: ['cls.predictions.bias', 'cls.predictions.transform.dense.bias', 'cls.predictions.decoder.weight', 'cls.predictions.transform.dense.weight', 'cls.predictions.transform.LayerNorm.weight', 'cls.seq_relationship.bias', 'cls.predictions.transform.LayerNorm.bias', 'cls.seq_relationship.weight']\n",
      "- This IS expected if you are initializing BertForSequenceClassification from the checkpoint of a model trained on another task or with another architecture (e.g. initializing a BertForSequenceClassification model from a BertForPreTraining model).\n",
      "- This IS NOT expected if you are initializing BertForSequenceClassification from the checkpoint of a model that you expect to be exactly identical (initializing a BertForSequenceClassification model from a BertForSequenceClassification model).\n",
      "Some weights of BertForSequenceClassification were not initialized from the model checkpoint at bert-base-multilingual-uncased and are newly initialized: ['classifier.bias', 'classifier.weight']\n",
      "You should probably TRAIN this model on a down-stream task to be able to use it for predictions and inference.\n"
     ]
    },
    {
     "name": "stdout",
     "output_type": "stream",
     "text": [
      "BertForSequenceClassification\n"
     ]
    }
   ],
   "source": [
    "\n",
    "from transformers import AutoModelForSequenceClassification\n",
    "\n",
    "model = AutoModelForSequenceClassification.from_pretrained(\n",
    "    checkpoint,\n",
    "    num_labels=4,\n",
    "    hidden_dropout_prob=0.2, \n",
    "    attention_probs_dropout_prob=0.2,\n",
    ")\n",
    "print(type(model).__name__)"
   ]
  },
  {
   "cell_type": "code",
   "execution_count": null,
   "metadata": {},
   "outputs": [
    {
     "name": "stderr",
     "output_type": "stream",
     "text": [
      "PyTorch: setting up devices\n"
     ]
    }
   ],
   "source": [
    "training_args = TrainingArguments(\n",
    "    output_dir='./output/model',\n",
    "    evaluation_strategy='epoch',\n",
    "    logging_strategy='epoch',\n",
    "    save_strategy='epoch',\n",
    "    save_total_limit=1,\n",
    "    lr_scheduler_type='constant',\n",
    "    load_best_model_at_end=True,\n",
    "    per_device_train_batch_size=64,\n",
    "    per_device_eval_batch_size=64,\n",
    "    num_train_epochs=3,\n",
    "    remove_unused_columns=False,\n",
    "    report_to='none'\n",
    ")\n",
    "   "
   ]
  },
  {
   "cell_type": "code",
   "execution_count": null,
   "metadata": {},
   "outputs": [],
   "source": [
    "from transformers import Trainer\n",
    "\n",
    "trainer = Trainer(\n",
    "    model=model,\n",
    "    train_dataset=train_tokenized_dataset,\n",
    "    eval_dataset=dev_tokenized_dataset,\n",
    "    data_collator=data_collator,\n",
    "    args=training_args,\n",
    ")"
   ]
  },
  {
   "cell_type": "code",
   "execution_count": null,
   "metadata": {},
   "outputs": [],
   "source": [
    "trainer.train()"
   ]
  },
  {
   "cell_type": "code",
   "execution_count": null,
   "metadata": {},
   "outputs": [],
   "source": [
    "test_preds = trainer.predict(test_tokenized_dataset)"
   ]
  },
  {
   "cell_type": "code",
   "execution_count": null,
   "metadata": {},
   "outputs": [],
   "source": [
    "predictions = np.argmax(np.array(test_preds[0]),axis=1)"
   ]
  },
  {
   "cell_type": "code",
   "execution_count": null,
   "metadata": {},
   "outputs": [],
   "source": [
    "def avg_ndcg_for_bert(data, id_list):\n",
    "    sum = 0\n",
    "    for id in id_list:\n",
    "        df = data[data[\"query_id\"] == id]\n",
    "        \n",
    "        sum += ndcg1(np.array(df['int_label'].tolist()), np.array(df['pred_test_bert'].tolist()))\n",
    "\n",
    "    return sum / len(id_list)"
   ]
  },
  {
   "cell_type": "code",
   "execution_count": null,
   "metadata": {},
   "outputs": [],
   "source": [
    "gain = {0: 0, 1: 1, 2: 2, 3: 4}\n",
    "test['pred_test_bert'] = predictions\n",
    "test['int_label'] = test['int_label'].apply(lambda x: gain[x])\n",
    "test['pred_test_bert'] = test['pred_test_bert'].apply(lambda x: gain[x])\n",
    "\n",
    "test_query_id_list = set(test['query_id'])\n",
    "\n",
    "ndcg_result = avg_ndcg_for_bert(test, test_query_id_list)"
   ]
  },
  {
   "cell_type": "markdown",
   "metadata": {},
   "source": [
    "### 9. Siamese BERT"
   ]
  },
  {
   "cell_type": "code",
   "execution_count": 2,
   "metadata": {},
   "outputs": [
    {
     "name": "stderr",
     "output_type": "stream",
     "text": [
      "/home/sugiyama/anaconda3/envs/ir100/lib/python3.9/site-packages/tqdm/auto.py:21: TqdmWarning: IProgress not found. Please update jupyter and ipywidgets. See https://ipywidgets.readthedocs.io/en/stable/user_install.html\n",
      "  from .autonotebook import tqdm as notebook_tqdm\n",
      "2024-05-01 10:51:16.338875: I tensorflow/core/platform/cpu_feature_guard.cc:210] This TensorFlow binary is optimized to use available CPU instructions in performance-critical operations.\n",
      "To enable the following instructions: AVX2 FMA, in other operations, rebuild TensorFlow with the appropriate compiler flags.\n",
      "2024-05-01 10:51:17.584301: W tensorflow/compiler/tf2tensorrt/utils/py_utils.cc:38] TF-TRT Warning: Could not find TensorRT\n"
     ]
    }
   ],
   "source": [
    "import torch\n",
    "from torch.utils.data import DataLoader\n",
    "from transformers import BertTokenizer, BertModel\n",
    "import torch.nn as nn\n",
    "import torch.optim as optim\n",
    "from sklearn.model_selection import train_test_split\n",
    "import pandas as pd\n",
    "from datasets import Dataset\n",
    "import os\n",
    "from sklearn.metrics import confusion_matrix, precision_score, recall_score, f1_score\n"
   ]
  },
  {
   "cell_type": "code",
   "execution_count": 24,
   "metadata": {},
   "outputs": [],
   "source": [
    "\"\"\" 0. Init \"\"\"\n",
    "dataset_path = '/home/sugiyama/ir/esci-data/shopping_queries_dataset'\n",
    "df_examples = pd.read_parquet(os.path.join(dataset_path, 'shopping_queries_dataset_examples.parquet'))\n",
    "df_products = pd.read_parquet(os.path.join(dataset_path, 'shopping_queries_dataset_products.parquet'))\n",
    "df_examples_products = pd.merge(df_examples, df_products, how='left', on=['product_locale', 'product_id'])\n",
    "\n",
    "train = df_examples_products[df_examples_products['split'] == \"train\"]\n",
    "test = df_examples_products[df_examples_products['split'] == \"test\"]\n",
    "\n",
    "train = train[train['product_locale'] == \"us\"]\n",
    "test = test[test['product_locale'] == \"us\"]\n",
    "\n",
    "gain = {'E': 3, 'S': 2, 'C': 1, 'I': 0}\n",
    "train['label'] = train['esci_label'].map(gain)\n",
    "test['label'] = test['esci_label'].map(gain)\n",
    "\n",
    "x = train[['product_title', 'query']]\n",
    "y = train['label']\n",
    "\n",
    "train_x, valid_x, train_y, valid_y = train_test_split(x, y, test_size=0.2, random_state=42)\n",
    "\n",
    "train_dataset = Dataset.from_pandas(pd.concat([train_x, train_y], axis=1).reset_index(drop=True))\n",
    "dev_dataset = Dataset.from_pandas(pd.concat([valid_x, valid_y], axis=1).reset_index(drop=True))\n",
    "test_dataset = Dataset.from_pandas(test[['product_title', 'query', 'label']].reset_index(drop=True))\n"
   ]
  },
  {
   "cell_type": "code",
   "execution_count": 4,
   "metadata": {},
   "outputs": [
    {
     "name": "stderr",
     "output_type": "stream",
     "text": [
      "/home/sugiyama/anaconda3/envs/ir100/lib/python3.9/site-packages/transformers/configuration_utils.py:336: UserWarning: Passing `gradient_checkpointing` to a config initialization is deprecated and will be removed in v5 Transformers. Using `model.gradient_checkpointing_enable()` instead, or if you are using the `Trainer` API, pass `gradient_checkpointing=True` in your `TrainingArguments`.\n",
      "  warnings.warn(\n"
     ]
    }
   ],
   "source": [
    "from transformers import AutoTokenizer\n",
    "tokenizer = AutoTokenizer.from_pretrained('xlm-roberta-base')"
   ]
  },
  {
   "cell_type": "code",
   "execution_count": 27,
   "metadata": {},
   "outputs": [
    {
     "name": "stderr",
     "output_type": "stream",
     "text": [
      "100%|██████████| 1115/1115 [00:55<00:00, 20.20ba/s]\n",
      "100%|██████████| 1115/1115 [02:27<00:00,  7.55ba/s]\n"
     ]
    },
    {
     "name": "stdout",
     "output_type": "stream",
     "text": [
      "['label', 'product_title_input_ids', 'product_title_attention_mask', 'query_input_ids', 'query_attention_mask']\n"
     ]
    }
   ],
   "source": [
    "### trainデータセット ###\n",
    "\n",
    "all_cols = ['label']\n",
    "\n",
    "for part in ['product_title', 'query']:\n",
    "    train_dataset = train_dataset.map(\n",
    "        lambda x: tokenizer(\n",
    "            x[part], max_length=128, padding='max_length',\n",
    "            truncation=True\n",
    "        ), batched=True\n",
    "    )\n",
    "    for col in ['input_ids', 'attention_mask']:\n",
    "        train_dataset = train_dataset.rename_column(\n",
    "            col, part+'_'+col\n",
    "        )\n",
    "        all_cols.append(part+'_'+col)\n",
    "print(all_cols)"
   ]
  },
  {
   "cell_type": "code",
   "execution_count": 29,
   "metadata": {},
   "outputs": [
    {
     "name": "stderr",
     "output_type": "stream",
     "text": [
      "100%|██████████| 279/279 [00:14<00:00, 19.43ba/s]\n",
      "100%|██████████| 279/279 [00:36<00:00,  7.56ba/s]"
     ]
    },
    {
     "name": "stdout",
     "output_type": "stream",
     "text": [
      "['label', 'product_title_input_ids', 'product_title_attention_mask', 'query_input_ids', 'query_attention_mask']\n"
     ]
    },
    {
     "name": "stderr",
     "output_type": "stream",
     "text": [
      "\n"
     ]
    }
   ],
   "source": [
    "### devデータセット ###\n",
    "\n",
    "all_cols = ['label']\n",
    "\n",
    "for part in ['product_title', 'query']:\n",
    "    dev_dataset = dev_dataset.map(\n",
    "        lambda x: tokenizer(\n",
    "            x[part], max_length=128, padding='max_length',\n",
    "            truncation=True\n",
    "        ), batched=True\n",
    "    )\n",
    "    for col in ['input_ids', 'attention_mask']:\n",
    "        dev_dataset = dev_dataset.rename_column(\n",
    "            col, part+'_'+col\n",
    "        )\n",
    "        all_cols.append(part+'_'+col)\n",
    "print(all_cols)"
   ]
  },
  {
   "cell_type": "code",
   "execution_count": 30,
   "metadata": {},
   "outputs": [
    {
     "name": "stderr",
     "output_type": "stream",
     "text": [
      "100%|██████████| 426/426 [00:20<00:00, 20.50ba/s]\n",
      "100%|██████████| 426/426 [00:55<00:00,  7.65ba/s]"
     ]
    },
    {
     "name": "stdout",
     "output_type": "stream",
     "text": [
      "['label', 'product_title_input_ids', 'product_title_attention_mask', 'query_input_ids', 'query_attention_mask']\n"
     ]
    },
    {
     "name": "stderr",
     "output_type": "stream",
     "text": [
      "\n"
     ]
    }
   ],
   "source": [
    "### testデータセット ###\n",
    "\n",
    "all_cols = ['label']\n",
    "\n",
    "for part in ['product_title', 'query']:\n",
    "    test_dataset = test_dataset.map(\n",
    "        lambda x: tokenizer(\n",
    "            x[part], max_length=128, padding='max_length',\n",
    "            truncation=True\n",
    "        ), batched=True\n",
    "    )\n",
    "    for col in ['input_ids', 'attention_mask']:\n",
    "        test_dataset = test_dataset.rename_column(\n",
    "            col, part+'_'+col\n",
    "        )\n",
    "        all_cols.append(part+'_'+col)\n",
    "print(all_cols)"
   ]
  },
  {
   "cell_type": "code",
   "execution_count": 31,
   "metadata": {},
   "outputs": [],
   "source": [
    "import torch\n",
    "train_dataset.set_format(type='torch', columns=all_cols)\n",
    "dev_dataset.set_format(type=\"torch\", columns=all_cols)\n",
    "# initialize the dataloader\n",
    "batch_size = 16\n",
    "train_loader = torch.utils.data.DataLoader(\n",
    "    train_dataset, batch_size=batch_size, shuffle=True\n",
    ")\n",
    "dev_loader = torch.utils.data.DataLoader(\n",
    "    dev_dataset, batch_size=batch_size, shuffle=False\n",
    ")\n",
    "test_loader = torch.utils.data.DataLoader(\n",
    "    test_dataset, batch_size=batch_size, shuffle=False\n",
    ")"
   ]
  },
  {
   "cell_type": "code",
   "execution_count": 32,
   "metadata": {},
   "outputs": [
    {
     "name": "stderr",
     "output_type": "stream",
     "text": [
      "You are using a model of type xlm-roberta to instantiate a model of type bert. This is not supported for all configurations of models and can yield errors.\n",
      "/home/sugiyama/anaconda3/envs/ir100/lib/python3.9/site-packages/transformers/configuration_utils.py:336: UserWarning: Passing `gradient_checkpointing` to a config initialization is deprecated and will be removed in v5 Transformers. Using `model.gradient_checkpointing_enable()` instead, or if you are using the `Trainer` API, pass `gradient_checkpointing=True` in your `TrainingArguments`.\n",
      "  warnings.warn(\n",
      "Some weights of the model checkpoint at xlm-roberta-base were not used when initializing BertModel: ['roberta.encoder.layer.1.attention.self.value.weight', 'lm_head.dense.bias', 'roberta.encoder.layer.5.attention.self.value.weight', 'roberta.encoder.layer.11.attention.output.dense.bias', 'roberta.encoder.layer.0.attention.self.query.weight', 'roberta.encoder.layer.2.intermediate.dense.weight', 'roberta.encoder.layer.9.intermediate.dense.weight', 'roberta.encoder.layer.10.attention.self.value.weight', 'roberta.encoder.layer.8.attention.self.key.bias', 'roberta.encoder.layer.6.output.dense.bias', 'roberta.encoder.layer.1.output.LayerNorm.weight', 'roberta.encoder.layer.8.attention.self.query.bias', 'roberta.encoder.layer.6.attention.output.dense.weight', 'roberta.encoder.layer.9.attention.self.key.bias', 'roberta.encoder.layer.8.attention.output.dense.weight', 'lm_head.decoder.weight', 'roberta.encoder.layer.1.output.dense.bias', 'roberta.encoder.layer.0.output.LayerNorm.bias', 'roberta.encoder.layer.2.attention.output.LayerNorm.bias', 'roberta.encoder.layer.4.attention.self.query.bias', 'roberta.encoder.layer.1.attention.output.dense.weight', 'roberta.embeddings.word_embeddings.weight', 'roberta.encoder.layer.11.intermediate.dense.bias', 'roberta.encoder.layer.7.output.dense.weight', 'roberta.encoder.layer.7.output.dense.bias', 'roberta.encoder.layer.4.attention.self.key.weight', 'roberta.encoder.layer.0.attention.self.key.weight', 'roberta.encoder.layer.0.attention.self.value.bias', 'roberta.encoder.layer.1.attention.output.dense.bias', 'roberta.encoder.layer.5.attention.self.key.bias', 'roberta.pooler.dense.weight', 'roberta.encoder.layer.6.attention.self.query.bias', 'roberta.encoder.layer.3.attention.output.LayerNorm.weight', 'roberta.encoder.layer.3.output.LayerNorm.weight', 'roberta.encoder.layer.0.attention.self.query.bias', 'roberta.encoder.layer.2.attention.self.value.weight', 'roberta.encoder.layer.4.attention.output.dense.bias', 'roberta.embeddings.token_type_embeddings.weight', 'roberta.encoder.layer.1.attention.self.key.bias', 'roberta.encoder.layer.11.attention.output.LayerNorm.bias', 'roberta.encoder.layer.11.attention.self.value.bias', 'roberta.encoder.layer.2.attention.self.value.bias', 'roberta.encoder.layer.3.attention.self.value.bias', 'roberta.encoder.layer.8.intermediate.dense.weight', 'roberta.encoder.layer.7.attention.output.dense.bias', 'roberta.encoder.layer.11.output.dense.bias', 'roberta.encoder.layer.4.output.dense.bias', 'roberta.encoder.layer.5.output.LayerNorm.weight', 'roberta.encoder.layer.3.intermediate.dense.bias', 'roberta.encoder.layer.7.intermediate.dense.weight', 'roberta.encoder.layer.8.attention.self.key.weight', 'roberta.encoder.layer.11.output.LayerNorm.bias', 'roberta.encoder.layer.8.output.dense.weight', 'roberta.encoder.layer.2.attention.self.key.bias', 'roberta.encoder.layer.3.attention.self.key.bias', 'roberta.encoder.layer.9.attention.output.LayerNorm.weight', 'roberta.encoder.layer.11.attention.self.query.weight', 'roberta.encoder.layer.9.output.LayerNorm.weight', 'roberta.encoder.layer.3.output.dense.weight', 'roberta.encoder.layer.9.attention.self.value.weight', 'roberta.encoder.layer.10.attention.self.key.bias', 'roberta.encoder.layer.0.output.dense.weight', 'roberta.encoder.layer.6.attention.output.LayerNorm.bias', 'roberta.encoder.layer.0.attention.output.dense.weight', 'roberta.encoder.layer.1.attention.output.LayerNorm.weight', 'roberta.encoder.layer.7.intermediate.dense.bias', 'roberta.embeddings.LayerNorm.bias', 'roberta.encoder.layer.3.output.LayerNorm.bias', 'roberta.encoder.layer.5.output.dense.bias', 'roberta.encoder.layer.4.attention.output.LayerNorm.weight', 'roberta.encoder.layer.7.output.LayerNorm.bias', 'roberta.encoder.layer.6.attention.output.dense.bias', 'roberta.encoder.layer.5.intermediate.dense.weight', 'roberta.encoder.layer.8.attention.self.value.weight', 'roberta.encoder.layer.1.attention.self.key.weight', 'roberta.encoder.layer.9.attention.self.query.bias', 'roberta.encoder.layer.7.output.LayerNorm.weight', 'roberta.encoder.layer.1.output.LayerNorm.bias', 'roberta.encoder.layer.10.attention.output.LayerNorm.weight', 'roberta.encoder.layer.3.attention.output.dense.weight', 'roberta.encoder.layer.1.attention.output.LayerNorm.bias', 'roberta.encoder.layer.2.intermediate.dense.bias', 'roberta.encoder.layer.3.attention.self.key.weight', 'roberta.encoder.layer.10.attention.self.value.bias', 'roberta.encoder.layer.3.attention.self.query.weight', 'roberta.encoder.layer.8.output.LayerNorm.bias', 'roberta.encoder.layer.4.attention.self.key.bias', 'roberta.encoder.layer.6.attention.self.key.bias', 'roberta.encoder.layer.5.attention.self.key.weight', 'roberta.encoder.layer.10.intermediate.dense.bias', 'roberta.encoder.layer.3.attention.output.LayerNorm.bias', 'roberta.encoder.layer.0.output.dense.bias', 'roberta.encoder.layer.2.output.LayerNorm.bias', 'roberta.encoder.layer.4.attention.output.dense.weight', 'roberta.encoder.layer.6.intermediate.dense.weight', 'roberta.encoder.layer.9.attention.self.value.bias', 'roberta.encoder.layer.0.attention.output.dense.bias', 'roberta.encoder.layer.2.attention.self.query.bias', 'roberta.encoder.layer.5.attention.output.LayerNorm.bias', 'roberta.encoder.layer.5.intermediate.dense.bias', 'roberta.encoder.layer.1.attention.self.value.bias', 'roberta.encoder.layer.1.intermediate.dense.weight', 'roberta.encoder.layer.6.attention.output.LayerNorm.weight', 'roberta.encoder.layer.2.attention.self.query.weight', 'roberta.encoder.layer.9.intermediate.dense.bias', 'roberta.encoder.layer.10.attention.output.dense.weight', 'roberta.encoder.layer.10.output.dense.weight', 'roberta.pooler.dense.bias', 'roberta.encoder.layer.5.attention.output.LayerNorm.weight', 'roberta.encoder.layer.2.attention.output.dense.weight', 'roberta.encoder.layer.4.output.LayerNorm.weight', 'roberta.encoder.layer.7.attention.self.value.bias', 'roberta.encoder.layer.0.attention.output.LayerNorm.bias', 'roberta.encoder.layer.5.attention.output.dense.weight', 'roberta.encoder.layer.10.output.LayerNorm.bias', 'roberta.encoder.layer.9.output.LayerNorm.bias', 'roberta.encoder.layer.3.output.dense.bias', 'roberta.encoder.layer.10.output.dense.bias', 'roberta.encoder.layer.7.attention.self.key.weight', 'roberta.encoder.layer.0.intermediate.dense.weight', 'roberta.encoder.layer.6.attention.self.key.weight', 'roberta.encoder.layer.6.output.LayerNorm.weight', 'roberta.encoder.layer.4.attention.self.value.weight', 'roberta.encoder.layer.5.attention.self.query.bias', 'roberta.encoder.layer.2.output.LayerNorm.weight', 'roberta.encoder.layer.4.intermediate.dense.weight', 'roberta.encoder.layer.6.attention.self.query.weight', 'roberta.encoder.layer.5.attention.self.value.bias', 'roberta.encoder.layer.5.output.LayerNorm.bias', 'roberta.embeddings.LayerNorm.weight', 'roberta.encoder.layer.6.intermediate.dense.bias', 'roberta.encoder.layer.8.output.LayerNorm.weight', 'roberta.encoder.layer.0.intermediate.dense.bias', 'roberta.encoder.layer.10.attention.self.key.weight', 'roberta.encoder.layer.8.attention.output.LayerNorm.bias', 'roberta.encoder.layer.2.attention.output.LayerNorm.weight', 'roberta.encoder.layer.2.output.dense.bias', 'roberta.encoder.layer.2.output.dense.weight', 'roberta.encoder.layer.10.intermediate.dense.weight', 'roberta.encoder.layer.9.output.dense.weight', 'lm_head.dense.weight', 'roberta.encoder.layer.11.attention.self.query.bias', 'roberta.encoder.layer.6.attention.self.value.weight', 'roberta.encoder.layer.7.attention.self.value.weight', 'roberta.encoder.layer.11.attention.self.key.weight', 'roberta.encoder.layer.8.intermediate.dense.bias', 'roberta.encoder.layer.1.intermediate.dense.bias', 'roberta.encoder.layer.6.output.dense.weight', 'roberta.encoder.layer.7.attention.self.query.bias', 'roberta.encoder.layer.5.output.dense.weight', 'roberta.encoder.layer.1.output.dense.weight', 'roberta.encoder.layer.7.attention.output.LayerNorm.bias', 'roberta.encoder.layer.11.attention.self.key.bias', 'roberta.encoder.layer.10.output.LayerNorm.weight', 'roberta.encoder.layer.6.output.LayerNorm.bias', 'lm_head.layer_norm.bias', 'roberta.encoder.layer.1.attention.self.query.weight', 'roberta.encoder.layer.0.attention.self.key.bias', 'roberta.encoder.layer.8.output.dense.bias', 'roberta.encoder.layer.4.intermediate.dense.bias', 'roberta.encoder.layer.5.attention.output.dense.bias', 'roberta.encoder.layer.7.attention.self.query.weight', 'roberta.encoder.layer.0.output.LayerNorm.weight', 'roberta.encoder.layer.11.attention.output.dense.weight', 'roberta.encoder.layer.0.attention.self.value.weight', 'roberta.encoder.layer.9.output.dense.bias', 'roberta.encoder.layer.10.attention.self.query.bias', 'roberta.embeddings.position_embeddings.weight', 'roberta.encoder.layer.9.attention.output.LayerNorm.bias', 'roberta.encoder.layer.3.attention.output.dense.bias', 'lm_head.layer_norm.weight', 'roberta.encoder.layer.1.attention.self.query.bias', 'roberta.encoder.layer.4.attention.self.value.bias', 'roberta.encoder.layer.8.attention.self.query.weight', 'roberta.encoder.layer.9.attention.self.query.weight', 'roberta.encoder.layer.9.attention.output.dense.weight', 'roberta.encoder.layer.3.attention.self.value.weight', 'roberta.encoder.layer.9.attention.self.key.weight', 'roberta.encoder.layer.10.attention.output.dense.bias', 'roberta.encoder.layer.2.attention.output.dense.bias', 'roberta.encoder.layer.11.attention.self.value.weight', 'roberta.encoder.layer.4.attention.self.query.weight', 'roberta.encoder.layer.3.intermediate.dense.weight', 'roberta.encoder.layer.10.attention.output.LayerNorm.bias', 'roberta.encoder.layer.11.output.dense.weight', 'roberta.encoder.layer.8.attention.self.value.bias', 'roberta.encoder.layer.9.attention.output.dense.bias', 'roberta.encoder.layer.11.intermediate.dense.weight', 'roberta.encoder.layer.4.output.LayerNorm.bias', 'roberta.encoder.layer.0.attention.output.LayerNorm.weight', 'roberta.encoder.layer.3.attention.self.query.bias', 'roberta.encoder.layer.4.attention.output.LayerNorm.bias', 'roberta.encoder.layer.10.attention.self.query.weight', 'roberta.encoder.layer.8.attention.output.dense.bias', 'roberta.encoder.layer.6.attention.self.value.bias', 'roberta.encoder.layer.7.attention.self.key.bias', 'roberta.encoder.layer.11.output.LayerNorm.weight', 'roberta.encoder.layer.7.attention.output.dense.weight', 'roberta.encoder.layer.7.attention.output.LayerNorm.weight', 'roberta.encoder.layer.8.attention.output.LayerNorm.weight', 'lm_head.bias', 'roberta.encoder.layer.4.output.dense.weight', 'roberta.encoder.layer.5.attention.self.query.weight', 'roberta.encoder.layer.2.attention.self.key.weight', 'roberta.encoder.layer.11.attention.output.LayerNorm.weight']\n",
      "- This IS expected if you are initializing BertModel from the checkpoint of a model trained on another task or with another architecture (e.g. initializing a BertForSequenceClassification model from a BertForPreTraining model).\n",
      "- This IS NOT expected if you are initializing BertModel from the checkpoint of a model that you expect to be exactly identical (initializing a BertForSequenceClassification model from a BertForSequenceClassification model).\n",
      "Some weights of BertModel were not initialized from the model checkpoint at xlm-roberta-base and are newly initialized: ['encoder.layer.0.attention.output.dense.bias', 'encoder.layer.11.attention.self.key.bias', 'encoder.layer.8.attention.self.value.weight', 'encoder.layer.0.output.LayerNorm.weight', 'encoder.layer.6.output.LayerNorm.weight', 'encoder.layer.11.attention.self.query.bias', 'encoder.layer.10.attention.self.value.weight', 'pooler.dense.weight', 'encoder.layer.1.attention.self.query.weight', 'encoder.layer.10.attention.output.LayerNorm.weight', 'encoder.layer.6.attention.output.dense.weight', 'encoder.layer.7.output.LayerNorm.bias', 'encoder.layer.0.attention.output.LayerNorm.weight', 'encoder.layer.2.attention.self.key.weight', 'encoder.layer.4.attention.self.value.weight', 'encoder.layer.6.attention.self.value.bias', 'encoder.layer.9.output.LayerNorm.bias', 'encoder.layer.0.attention.output.LayerNorm.bias', 'encoder.layer.7.attention.self.query.weight', 'encoder.layer.5.attention.self.value.bias', 'encoder.layer.7.attention.output.dense.bias', 'encoder.layer.6.attention.self.key.bias', 'encoder.layer.11.output.LayerNorm.weight', 'encoder.layer.2.attention.output.dense.bias', 'encoder.layer.5.intermediate.dense.weight', 'encoder.layer.2.output.LayerNorm.weight', 'encoder.layer.7.attention.self.value.bias', 'encoder.layer.11.attention.output.dense.bias', 'encoder.layer.8.attention.self.query.bias', 'encoder.layer.4.attention.output.dense.bias', 'encoder.layer.2.attention.self.value.weight', 'encoder.layer.1.attention.self.query.bias', 'encoder.layer.4.attention.output.LayerNorm.weight', 'encoder.layer.0.attention.self.value.bias', 'encoder.layer.4.attention.self.value.bias', 'encoder.layer.3.attention.output.LayerNorm.bias', 'encoder.layer.6.intermediate.dense.bias', 'encoder.layer.3.output.dense.weight', 'encoder.layer.5.attention.self.query.weight', 'encoder.layer.11.intermediate.dense.bias', 'encoder.layer.10.output.dense.weight', 'encoder.layer.5.attention.self.query.bias', 'encoder.layer.10.attention.output.dense.weight', 'encoder.layer.2.output.dense.weight', 'encoder.layer.7.attention.self.value.weight', 'encoder.layer.6.attention.self.key.weight', 'encoder.layer.1.attention.output.dense.weight', 'encoder.layer.8.attention.output.dense.bias', 'encoder.layer.5.attention.output.dense.weight', 'encoder.layer.9.intermediate.dense.weight', 'encoder.layer.1.output.LayerNorm.weight', 'encoder.layer.4.output.LayerNorm.bias', 'encoder.layer.3.attention.self.key.bias', 'encoder.layer.0.attention.self.key.weight', 'encoder.layer.2.output.LayerNorm.bias', 'encoder.layer.10.output.dense.bias', 'encoder.layer.7.attention.output.LayerNorm.bias', 'encoder.layer.5.intermediate.dense.bias', 'encoder.layer.5.attention.self.key.weight', 'encoder.layer.6.attention.self.query.bias', 'encoder.layer.0.output.dense.weight', 'embeddings.LayerNorm.weight', 'encoder.layer.1.output.dense.bias', 'encoder.layer.9.output.dense.weight', 'embeddings.word_embeddings.weight', 'encoder.layer.4.output.dense.bias', 'pooler.dense.bias', 'encoder.layer.4.intermediate.dense.bias', 'embeddings.token_type_embeddings.weight', 'encoder.layer.11.attention.self.query.weight', 'encoder.layer.8.attention.self.key.weight', 'encoder.layer.7.attention.self.query.bias', 'encoder.layer.1.output.LayerNorm.bias', 'encoder.layer.4.attention.self.query.bias', 'encoder.layer.0.attention.output.dense.weight', 'encoder.layer.1.attention.self.key.bias', 'encoder.layer.2.attention.output.LayerNorm.bias', 'encoder.layer.8.output.LayerNorm.bias', 'encoder.layer.0.attention.self.query.weight', 'encoder.layer.6.attention.self.value.weight', 'encoder.layer.9.attention.output.dense.bias', 'encoder.layer.8.attention.self.key.bias', 'encoder.layer.6.output.dense.weight', 'encoder.layer.11.attention.output.LayerNorm.bias', 'encoder.layer.10.attention.output.dense.bias', 'encoder.layer.6.output.LayerNorm.bias', 'encoder.layer.1.attention.self.value.weight', 'encoder.layer.9.attention.self.value.weight', 'encoder.layer.1.attention.self.value.bias', 'encoder.layer.1.attention.output.LayerNorm.weight', 'encoder.layer.8.attention.output.LayerNorm.bias', 'encoder.layer.10.attention.self.key.weight', 'encoder.layer.1.attention.output.dense.bias', 'encoder.layer.6.attention.output.LayerNorm.bias', 'encoder.layer.10.attention.self.query.bias', 'encoder.layer.10.attention.self.query.weight', 'encoder.layer.8.intermediate.dense.weight', 'encoder.layer.11.attention.self.value.weight', 'encoder.layer.7.intermediate.dense.bias', 'encoder.layer.5.attention.output.LayerNorm.weight', 'encoder.layer.7.attention.output.LayerNorm.weight', 'encoder.layer.1.output.dense.weight', 'encoder.layer.4.attention.output.dense.weight', 'encoder.layer.8.attention.self.value.bias', 'encoder.layer.9.attention.output.LayerNorm.weight', 'encoder.layer.7.output.dense.bias', 'encoder.layer.8.output.dense.weight', 'encoder.layer.0.intermediate.dense.weight', 'encoder.layer.3.intermediate.dense.weight', 'encoder.layer.7.output.dense.weight', 'encoder.layer.3.attention.output.LayerNorm.weight', 'encoder.layer.5.output.dense.bias', 'encoder.layer.9.attention.output.LayerNorm.bias', 'encoder.layer.8.attention.output.dense.weight', 'encoder.layer.10.intermediate.dense.weight', 'encoder.layer.9.attention.self.key.weight', 'encoder.layer.8.intermediate.dense.bias', 'encoder.layer.5.output.LayerNorm.weight', 'encoder.layer.3.attention.self.value.weight', 'encoder.layer.5.attention.output.dense.bias', 'encoder.layer.2.attention.output.dense.weight', 'encoder.layer.0.attention.self.key.bias', 'embeddings.position_embeddings.weight', 'encoder.layer.2.attention.self.query.weight', 'encoder.layer.1.attention.output.LayerNorm.bias', 'encoder.layer.3.output.dense.bias', 'encoder.layer.9.attention.self.query.bias', 'encoder.layer.9.output.LayerNorm.weight', 'encoder.layer.1.attention.self.key.weight', 'encoder.layer.3.attention.output.dense.weight', 'encoder.layer.8.attention.self.query.weight', 'encoder.layer.6.intermediate.dense.weight', 'encoder.layer.9.output.dense.bias', 'encoder.layer.10.attention.self.value.bias', 'encoder.layer.11.attention.output.dense.weight', 'encoder.layer.6.output.dense.bias', 'encoder.layer.11.intermediate.dense.weight', 'encoder.layer.10.attention.output.LayerNorm.bias', 'encoder.layer.5.attention.output.LayerNorm.bias', 'encoder.layer.0.output.LayerNorm.bias', 'encoder.layer.5.attention.self.value.weight', 'encoder.layer.9.attention.self.key.bias', 'encoder.layer.3.attention.output.dense.bias', 'encoder.layer.4.attention.output.LayerNorm.bias', 'encoder.layer.2.intermediate.dense.weight', 'encoder.layer.11.attention.self.value.bias', 'encoder.layer.6.attention.output.LayerNorm.weight', 'embeddings.LayerNorm.bias', 'encoder.layer.10.attention.self.key.bias', 'encoder.layer.11.output.dense.bias', 'encoder.layer.7.attention.self.key.bias', 'encoder.layer.4.output.dense.weight', 'encoder.layer.7.attention.self.key.weight', 'encoder.layer.7.intermediate.dense.weight', 'encoder.layer.9.attention.self.query.weight', 'encoder.layer.6.attention.output.dense.bias', 'encoder.layer.8.attention.output.LayerNorm.weight', 'encoder.layer.11.attention.output.LayerNorm.weight', 'encoder.layer.2.attention.self.value.bias', 'encoder.layer.5.output.LayerNorm.bias', 'encoder.layer.3.attention.self.key.weight', 'encoder.layer.5.output.dense.weight', 'encoder.layer.0.attention.self.query.bias', 'encoder.layer.11.output.dense.weight', 'encoder.layer.3.output.LayerNorm.bias', 'encoder.layer.7.attention.output.dense.weight', 'encoder.layer.3.attention.self.query.bias', 'encoder.layer.2.output.dense.bias', 'encoder.layer.2.attention.output.LayerNorm.weight', 'encoder.layer.7.output.LayerNorm.weight', 'encoder.layer.2.attention.self.query.bias', 'encoder.layer.3.attention.self.query.weight', 'encoder.layer.3.intermediate.dense.bias', 'encoder.layer.10.output.LayerNorm.weight', 'encoder.layer.4.attention.self.key.weight', 'encoder.layer.4.attention.self.key.bias', 'encoder.layer.4.intermediate.dense.weight', 'encoder.layer.0.output.dense.bias', 'encoder.layer.3.output.LayerNorm.weight', 'encoder.layer.10.intermediate.dense.bias', 'encoder.layer.11.attention.self.key.weight', 'encoder.layer.0.intermediate.dense.bias', 'encoder.layer.8.output.dense.bias', 'encoder.layer.2.intermediate.dense.bias', 'encoder.layer.3.attention.self.value.bias', 'encoder.layer.5.attention.self.key.bias', 'encoder.layer.9.intermediate.dense.bias', 'encoder.layer.10.output.LayerNorm.bias', 'encoder.layer.1.intermediate.dense.bias', 'encoder.layer.4.attention.self.query.weight', 'encoder.layer.2.attention.self.key.bias', 'encoder.layer.6.attention.self.query.weight', 'encoder.layer.8.output.LayerNorm.weight', 'encoder.layer.0.attention.self.value.weight', 'encoder.layer.11.output.LayerNorm.bias', 'encoder.layer.9.attention.output.dense.weight', 'encoder.layer.4.output.LayerNorm.weight', 'encoder.layer.9.attention.self.value.bias', 'encoder.layer.1.intermediate.dense.weight']\n",
      "You should probably TRAIN this model on a down-stream task to be able to use it for predictions and inference.\n"
     ]
    }
   ],
   "source": [
    "import torch\n",
    "device=torch.device(\"cuda\" if torch.cuda.is_available() else \"cpu\")\n",
    "\n",
    "model = BertModel.from_pretrained('xlm-roberta-base').to(device)"
   ]
  },
  {
   "cell_type": "code",
   "execution_count": 33,
   "metadata": {},
   "outputs": [],
   "source": [
    "import torch.nn as n\n",
    "\n",
    "class Siamese(nn.Module):\n",
    "    def __init__(self, bert, embedding_dim=768, num_classes=4):\n",
    "        super(Siamese, self).__init__()\n",
    "        self.bert=bert\n",
    "        self.linear=nn.Linear(embedding_dim*3, num_classes)\n",
    "    \n",
    "    # define mean pooling function\n",
    "    def mean_pool(self, token_embeds, attention_mask):\n",
    "        # reshape attention_mask to cover 768-dimension embeddings\n",
    "        in_mask = attention_mask.unsqueeze(-1).expand(\n",
    "            token_embeds.size()\n",
    "        ).float()\n",
    "        # perform mean-pooling but exclude padding tokens (specified by in_mask)\n",
    "        pool = torch.sum(token_embeds * in_mask, 1) / torch.clamp(\n",
    "            in_mask.sum(1), min=1e-9\n",
    "        )\n",
    "        return pool\n",
    "    \n",
    "    def forward(self, batch_data):\n",
    "        u=self.bert(batch_data['product_title_input_ids'].to(device), batch_data['product_title_attention_mask'].to(device), output_hidden_states=True)\n",
    "        u=self.mean_pool(u.last_hidden_state, batch_data['product_title_attention_mask'].to(device))\n",
    "        v=self.bert(batch_data['query_input_ids'].to(device), batch_data['query_attention_mask'].to(device), output_hidden_states=True)\n",
    "        v=self.mean_pool(v.last_hidden_state, batch_data['query_attention_mask'].to(device))\n",
    "        x=torch.cat([u, v, torch.abs(u-v)], dim=-1)\n",
    "        y=self.linear(x)\n",
    "        return y\n"
   ]
  },
  {
   "cell_type": "code",
   "execution_count": 34,
   "metadata": {},
   "outputs": [],
   "source": [
    "loss_fn=torch.nn.CrossEntropyLoss()\n",
    "model= Siamese(model).to(device)\n",
    "optim = torch.optim.Adam(model.parameters(), lr=2e-5)\n"
   ]
  },
  {
   "cell_type": "code",
   "execution_count": 35,
   "metadata": {},
   "outputs": [],
   "source": [
    "from transformers.optimization import get_linear_schedule_with_warmup\n",
    "total_steps = int(len(train_dataset) / batch_size)\n",
    "warmup_steps = int(0.1 * total_steps)\n",
    "scheduler = get_linear_schedule_with_warmup(optim, num_warmup_steps=warmup_steps,num_training_steps=total_steps - warmup_steps)\n"
   ]
  },
  {
   "cell_type": "code",
   "execution_count": 40,
   "metadata": {},
   "outputs": [],
   "source": [
    "import numpy as np\n",
    "np.object = object"
   ]
  },
  {
   "cell_type": "code",
   "execution_count": 42,
   "metadata": {},
   "outputs": [
    {
     "name": "stderr",
     "output_type": "stream",
     "text": [
      "100%|██████████| 69654/69654 [4:49:23<00:00,  4.01it/s]  \n",
      "100%|██████████| 69654/69654 [1:33:28<00:00, 12.42it/s]\n"
     ]
    },
    {
     "name": "stdout",
     "output_type": "stream",
     "text": [
      "Epoch: 0 Train accuracy: 74.59805297851562 Loss: 0.04182487461064608\n"
     ]
    },
    {
     "name": "stderr",
     "output_type": "stream",
     "text": [
      "100%|██████████| 17414/17414 [23:21<00:00, 12.42it/s]"
     ]
    },
    {
     "name": "stdout",
     "output_type": "stream",
     "text": [
      "Epoch: 0 Val accuracy: 73.38961029052734 Loss: 0.043756257107274335\n"
     ]
    },
    {
     "name": "stderr",
     "output_type": "stream",
     "text": [
      "\n"
     ]
    }
   ],
   "source": [
    "num_epochs=1\n",
    "from tqdm import tqdm\n",
    "from sklearn.metrics import accuracy_score, f1_score\n",
    "for i in range(num_epochs):\n",
    "    for batch in tqdm(train_loader):\n",
    "        optim.zero_grad()\n",
    "        y=model(batch)\n",
    "        loss=loss_fn(y, batch['label'].to(device))\n",
    "        loss.backward()\n",
    "        optim.step()\n",
    "        scheduler.step()\n",
    "    correct=0\n",
    "    total=0\n",
    "    epoch_loss=0\n",
    "    with torch.no_grad():\n",
    "        for batch in tqdm(train_loader):\n",
    "            y=model(batch)\n",
    "            loss=loss_fn(y, batch['label'].to(device))\n",
    "            epoch_loss+=loss.item()\n",
    "            preds=y.argmax(-1)\n",
    "            correct+=(preds==batch['label'].to(device)).sum()\n",
    "            total+=preds.shape[0]\n",
    "        print(f\"Epoch: {i} Train accuracy: {correct/total*100} Loss: {epoch_loss/total}\")\n",
    "    \n",
    "    correct=0\n",
    "    total=0\n",
    "    epoch_loss=0\n",
    "    with torch.no_grad():\n",
    "        for batch in tqdm(dev_loader):\n",
    "            y=model(batch)\n",
    "            loss=loss_fn(y, batch['label'].to(device))\n",
    "            epoch_loss+=loss.item()\n",
    "            preds=y.argmax(-1)\n",
    "            correct+=(preds==batch['label'].to(device)).sum()\n",
    "            total+=preds.shape[0]\n",
    "        print(f\"Epoch: {i} Val accuracy: {correct/total*100} Loss: {epoch_loss/total}\")\n"
   ]
  },
  {
   "cell_type": "code",
   "execution_count": null,
   "metadata": {},
   "outputs": [],
   "source": []
  }
 ],
 "metadata": {
  "kernelspec": {
   "display_name": "ir100",
   "language": "python",
   "name": "python3"
  },
  "language_info": {
   "codemirror_mode": {
    "name": "ipython",
    "version": 3
   },
   "file_extension": ".py",
   "mimetype": "text/x-python",
   "name": "python",
   "nbconvert_exporter": "python",
   "pygments_lexer": "ipython3",
   "version": "3.9.19"
  }
 },
 "nbformat": 4,
 "nbformat_minor": 2
}
