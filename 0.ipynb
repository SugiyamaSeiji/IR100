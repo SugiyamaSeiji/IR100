{
 "cells": [
  {
   "cell_type": "markdown",
   "metadata": {},
   "source": [
    "### 3.　製品データの読み込み"
   ]
  },
  {
   "cell_type": "code",
   "execution_count": 1,
   "metadata": {},
   "outputs": [
    {
     "name": "stdout",
     "output_type": "stream",
     "text": [
      "<class 'pandas.core.frame.DataFrame'>\n",
      "RangeIndex: 1814924 entries, 0 to 1814923\n",
      "Data columns (total 7 columns):\n",
      " #   Column                Dtype \n",
      "---  ------                ----- \n",
      " 0   product_id            object\n",
      " 1   product_title         object\n",
      " 2   product_description   object\n",
      " 3   product_bullet_point  object\n",
      " 4   product_brand         object\n",
      " 5   product_color         object\n",
      " 6   product_locale        object\n",
      "dtypes: object(7)\n",
      "memory usage: 96.9+ MB\n",
      "None\n"
     ]
    }
   ],
   "source": [
    "import pandas as pd\n",
    "\n",
    "product  = pd.read_parquet('../esci-data/shopping_queries_dataset/shopping_queries_dataset_products.parquet')\n",
    "print(product.info())"
   ]
  },
  {
   "cell_type": "markdown",
   "metadata": {},
   "source": [
    "### 4.　製品データの確認"
   ]
  },
  {
   "cell_type": "code",
   "execution_count": 2,
   "metadata": {},
   "outputs": [
    {
     "data": {
      "text/html": [
       "<div>\n",
       "<style scoped>\n",
       "    .dataframe tbody tr th:only-of-type {\n",
       "        vertical-align: middle;\n",
       "    }\n",
       "\n",
       "    .dataframe tbody tr th {\n",
       "        vertical-align: top;\n",
       "    }\n",
       "\n",
       "    .dataframe thead th {\n",
       "        text-align: right;\n",
       "    }\n",
       "</style>\n",
       "<table border=\"1\" class=\"dataframe\">\n",
       "  <thead>\n",
       "    <tr style=\"text-align: right;\">\n",
       "      <th></th>\n",
       "      <th>product_id</th>\n",
       "      <th>product_title</th>\n",
       "      <th>product_description</th>\n",
       "      <th>product_bullet_point</th>\n",
       "      <th>product_brand</th>\n",
       "      <th>product_color</th>\n",
       "      <th>product_locale</th>\n",
       "    </tr>\n",
       "  </thead>\n",
       "  <tbody>\n",
       "    <tr>\n",
       "      <th>0</th>\n",
       "      <td>B079VKKJN7</td>\n",
       "      <td>11 Degrees de los Hombres Playera con Logo, Ne...</td>\n",
       "      <td>Esta playera con el logo de la marca Carrier d...</td>\n",
       "      <td>11 Degrees Negro Playera con logo\\nA estrenar ...</td>\n",
       "      <td>11 Degrees</td>\n",
       "      <td>Negro</td>\n",
       "      <td>es</td>\n",
       "    </tr>\n",
       "    <tr>\n",
       "      <th>1</th>\n",
       "      <td>B079Y9VRKS</td>\n",
       "      <td>Camiseta Eleven Degrees Core TS White (M)</td>\n",
       "      <td>None</td>\n",
       "      <td>None</td>\n",
       "      <td>11 Degrees</td>\n",
       "      <td>Blanco</td>\n",
       "      <td>es</td>\n",
       "    </tr>\n",
       "    <tr>\n",
       "      <th>2</th>\n",
       "      <td>B07DP4LM9H</td>\n",
       "      <td>11 Degrees de los Hombres Core Pull Over Hoodi...</td>\n",
       "      <td>La sudadera con capucha Core Pull Over de 11 G...</td>\n",
       "      <td>11 Degrees Azul Core Pull Over Hoodie\\nA estre...</td>\n",
       "      <td>11 Degrees</td>\n",
       "      <td>Azul</td>\n",
       "      <td>es</td>\n",
       "    </tr>\n",
       "    <tr>\n",
       "      <th>3</th>\n",
       "      <td>B07G37B9HP</td>\n",
       "      <td>11 Degrees Poli Panel Track Pant XL Black</td>\n",
       "      <td>None</td>\n",
       "      <td>None</td>\n",
       "      <td>11 Degrees</td>\n",
       "      <td>None</td>\n",
       "      <td>es</td>\n",
       "    </tr>\n",
       "    <tr>\n",
       "      <th>4</th>\n",
       "      <td>B07LCTGDHY</td>\n",
       "      <td>11 Degrees Gorra Trucker Negro OSFA (Talla úni...</td>\n",
       "      <td>None</td>\n",
       "      <td>None</td>\n",
       "      <td>11 Degrees</td>\n",
       "      <td>Negro (</td>\n",
       "      <td>es</td>\n",
       "    </tr>\n",
       "    <tr>\n",
       "      <th>...</th>\n",
       "      <td>...</td>\n",
       "      <td>...</td>\n",
       "      <td>...</td>\n",
       "      <td>...</td>\n",
       "      <td>...</td>\n",
       "      <td>...</td>\n",
       "      <td>...</td>\n",
       "    </tr>\n",
       "    <tr>\n",
       "      <th>1814919</th>\n",
       "      <td>B09FJYBVKS</td>\n",
       "      <td>スポーツブラ 揺れない ヨガウェア レディース トップス 通気性 ナイトブラ スポーツブラジ...</td>\n",
       "      <td>&lt;p&gt;【注意事項】&lt;/p&gt;&lt;p&gt;※商品内容以外のアクセサリー・小物等は付属しません.&lt;/p&gt;...</td>\n",
       "      <td>シンプルのデザインで合わせやすいです。コート、半袖、シャツを合わせて、家で着てもいい、寝てい...</td>\n",
       "      <td>Doworspaw</td>\n",
       "      <td>ベージュ</td>\n",
       "      <td>jp</td>\n",
       "    </tr>\n",
       "    <tr>\n",
       "      <th>1814920</th>\n",
       "      <td>B09FTJ3S1N</td>\n",
       "      <td>ブラジャー レディース 補正ブラ Gabrioir 揺れない 大きいサイズ バストアップ美胸...</td>\n",
       "      <td>&lt;p&gt;【配送】&lt;/p&gt;&lt;p&gt;普通には2-3日後出荷できますが。出荷した後15-25日ぐらい届...</td>\n",
       "      <td>【いろんな場合に適用】軽い運動時、家事、外出、長時間移動、温泉旅行などに活用なセクシルームブ...</td>\n",
       "      <td>Gabrioir</td>\n",
       "      <td>パープル</td>\n",
       "      <td>jp</td>\n",
       "    </tr>\n",
       "    <tr>\n",
       "      <th>1814921</th>\n",
       "      <td>B09G72LDQZ</td>\n",
       "      <td>レディース ブラジャー 補正ブラ トップス Gabrioir 大きいサイズ 揺れない 脇高設...</td>\n",
       "      <td>&lt;p&gt;【配送】&lt;/p&gt;&lt;p&gt;普通には2-3日後出荷できますが。出荷した後15-25日ぐらい届...</td>\n",
       "      <td>【いろんな場合に適用】軽い運動時、家事、外出、長時間移動、温泉旅行などに活用なセクシルームブ...</td>\n",
       "      <td>Gabrioir</td>\n",
       "      <td>ベージュ</td>\n",
       "      <td>jp</td>\n",
       "    </tr>\n",
       "    <tr>\n",
       "      <th>1814922</th>\n",
       "      <td>B09GBGRTPB</td>\n",
       "      <td>ナイトブラ ノンワイヤーブラ ブラジャー レディース Gabrioir 大きいサイズ パット...</td>\n",
       "      <td>&lt;p&gt;【配送】&lt;/p&gt;&lt;p&gt;普通には2-3日後出荷できますが。出荷した後15-25日ぐらい届...</td>\n",
       "      <td>【いろんな場合に適用】軽い運動時、家事、外出、長時間移動、温泉旅行などに活用なセクシルームブ...</td>\n",
       "      <td>Gabrioir</td>\n",
       "      <td>パープル</td>\n",
       "      <td>jp</td>\n",
       "    </tr>\n",
       "    <tr>\n",
       "      <th>1814923</th>\n",
       "      <td>B09GBKN83Q</td>\n",
       "      <td>インナーキャミソール レディース ブラトップ キャミソール Gabrioir ノーワイヤー ...</td>\n",
       "      <td>&lt;p&gt;【配送】&lt;/p&gt;&lt;p&gt;普通には2-3日後出荷できますが。出荷した後15-25日ぐらい届...</td>\n",
       "      <td>【いろんな場合に適用】軽い運動時、家事、外出、長時間移動、温泉旅行などに活用なセクシルームブ...</td>\n",
       "      <td>Gabrioir</td>\n",
       "      <td>ブラック</td>\n",
       "      <td>jp</td>\n",
       "    </tr>\n",
       "  </tbody>\n",
       "</table>\n",
       "<p>1814924 rows × 7 columns</p>\n",
       "</div>"
      ],
      "text/plain": [
       "         product_id                                      product_title  \\\n",
       "0        B079VKKJN7  11 Degrees de los Hombres Playera con Logo, Ne...   \n",
       "1        B079Y9VRKS          Camiseta Eleven Degrees Core TS White (M)   \n",
       "2        B07DP4LM9H  11 Degrees de los Hombres Core Pull Over Hoodi...   \n",
       "3        B07G37B9HP          11 Degrees Poli Panel Track Pant XL Black   \n",
       "4        B07LCTGDHY  11 Degrees Gorra Trucker Negro OSFA (Talla úni...   \n",
       "...             ...                                                ...   \n",
       "1814919  B09FJYBVKS  スポーツブラ 揺れない ヨガウェア レディース トップス 通気性 ナイトブラ スポーツブラジ...   \n",
       "1814920  B09FTJ3S1N  ブラジャー レディース 補正ブラ Gabrioir 揺れない 大きいサイズ バストアップ美胸...   \n",
       "1814921  B09G72LDQZ  レディース ブラジャー 補正ブラ トップス Gabrioir 大きいサイズ 揺れない 脇高設...   \n",
       "1814922  B09GBGRTPB  ナイトブラ ノンワイヤーブラ ブラジャー レディース Gabrioir 大きいサイズ パット...   \n",
       "1814923  B09GBKN83Q  インナーキャミソール レディース ブラトップ キャミソール Gabrioir ノーワイヤー ...   \n",
       "\n",
       "                                       product_description  \\\n",
       "0        Esta playera con el logo de la marca Carrier d...   \n",
       "1                                                     None   \n",
       "2        La sudadera con capucha Core Pull Over de 11 G...   \n",
       "3                                                     None   \n",
       "4                                                     None   \n",
       "...                                                    ...   \n",
       "1814919  <p>【注意事項】</p><p>※商品内容以外のアクセサリー・小物等は付属しません.</p>...   \n",
       "1814920  <p>【配送】</p><p>普通には2-3日後出荷できますが。出荷した後15-25日ぐらい届...   \n",
       "1814921  <p>【配送】</p><p>普通には2-3日後出荷できますが。出荷した後15-25日ぐらい届...   \n",
       "1814922  <p>【配送】</p><p>普通には2-3日後出荷できますが。出荷した後15-25日ぐらい届...   \n",
       "1814923  <p>【配送】</p><p>普通には2-3日後出荷できますが。出荷した後15-25日ぐらい届...   \n",
       "\n",
       "                                      product_bullet_point product_brand  \\\n",
       "0        11 Degrees Negro Playera con logo\\nA estrenar ...    11 Degrees   \n",
       "1                                                     None    11 Degrees   \n",
       "2        11 Degrees Azul Core Pull Over Hoodie\\nA estre...    11 Degrees   \n",
       "3                                                     None    11 Degrees   \n",
       "4                                                     None    11 Degrees   \n",
       "...                                                    ...           ...   \n",
       "1814919  シンプルのデザインで合わせやすいです。コート、半袖、シャツを合わせて、家で着てもいい、寝てい...     Doworspaw   \n",
       "1814920  【いろんな場合に適用】軽い運動時、家事、外出、長時間移動、温泉旅行などに活用なセクシルームブ...      Gabrioir   \n",
       "1814921  【いろんな場合に適用】軽い運動時、家事、外出、長時間移動、温泉旅行などに活用なセクシルームブ...      Gabrioir   \n",
       "1814922  【いろんな場合に適用】軽い運動時、家事、外出、長時間移動、温泉旅行などに活用なセクシルームブ...      Gabrioir   \n",
       "1814923  【いろんな場合に適用】軽い運動時、家事、外出、長時間移動、温泉旅行などに活用なセクシルームブ...      Gabrioir   \n",
       "\n",
       "        product_color product_locale  \n",
       "0               Negro             es  \n",
       "1              Blanco             es  \n",
       "2                Azul             es  \n",
       "3                None             es  \n",
       "4             Negro (             es  \n",
       "...               ...            ...  \n",
       "1814919          ベージュ             jp  \n",
       "1814920          パープル             jp  \n",
       "1814921          ベージュ             jp  \n",
       "1814922          パープル             jp  \n",
       "1814923          ブラック             jp  \n",
       "\n",
       "[1814924 rows x 7 columns]"
      ]
     },
     "execution_count": 2,
     "metadata": {},
     "output_type": "execute_result"
    }
   ],
   "source": [
    "product"
   ]
  },
  {
   "cell_type": "code",
   "execution_count": 3,
   "metadata": {},
   "outputs": [
    {
     "name": "stdout",
     "output_type": "stream",
     "text": [
      "product_id                                                     B07WR6JJQW\n",
      "product_title           RONSHIN Holybro Kakute F7 Controlador de Vuelo...\n",
      "product_description     <p> Descripción: </p> <p> Kakute F7: </p> <p> ...\n",
      "product_bullet_point    Controlador de vuelo Kakute F7:\\n- IMU de alto...\n",
      "product_brand                                                     RONSHIN\n",
      "product_color                                                        None\n",
      "product_locale                                                         es\n",
      "Name: 27183, dtype: object\n",
      "\n",
      "\n",
      "product_id                                                     B077SML6N5\n",
      "product_title           Kraft Cover Blank 100g Full Wood Paper Sketch ...\n",
      "product_description     An artist sketch book needs something that is ...\n",
      "product_bullet_point    BEAUTIFUL KRAFT COVER SKETCH BOOK This sketch ...\n",
      "product_brand                                                       TWONE\n",
      "product_color                                                        None\n",
      "product_locale                                                         us\n",
      "Name: 666485, dtype: object\n",
      "\n",
      "\n",
      "product_id                                                     B078B9244Y\n",
      "product_title           Cashflow 101 Board Game - Robert Kiyosaki Cash...\n",
      "product_description     Cashflow 101 is an educational board game that...\n",
      "product_bullet_point    Have fun while learning about money management...\n",
      "product_brand                                                    CASHFLOW\n",
      "product_color                                                        None\n",
      "product_locale                                                         us\n",
      "Name: 354923, dtype: object\n",
      "\n",
      "\n",
      "product_id                                                     B07RSYS8YY\n",
      "product_title           半袖 ショートパンツ 二点セット Regoss (レジス) 子供服の女の子のTシャツは無地、...\n",
      "product_description     <p>🌸🌸🌸🌸ようこそRegoss (レジス)に。私たちは衣装、靴、腕時計、メイクアップ、懐...\n",
      "product_bullet_point    男の子 おしゃれ 新生児 男の子 服 ベビー服 安い ベビー フォーマル 男の子 ベビー服 ...\n",
      "product_brand                                             Regoss (レジス) 子供\n",
      "product_color                                                        ホワイト\n",
      "product_locale                                                         jp\n",
      "Name: 1150617, dtype: object\n",
      "\n",
      "\n",
      "product_id                                                     B008BYQ2NQ\n",
      "product_title           Saddlemen 3516-0146 Adventure Pack Luggage Rea...\n",
      "product_description                                                  None\n",
      "product_bullet_point    Styled to look great and to overcome any tough...\n",
      "product_brand                                                   Saddlemen\n",
      "product_color                                                       Black\n",
      "product_locale                                                         us\n",
      "Name: 640296, dtype: object\n",
      "\n",
      "\n"
     ]
    }
   ],
   "source": [
    "import random\n",
    "from random import randint\n",
    "\n",
    "for _ in range(5):\n",
    "    num = randint(0, 1814924)\n",
    "    print(product.loc[num])\n",
    "    print(\"\\n\")"
   ]
  },
  {
   "cell_type": "markdown",
   "metadata": {},
   "source": [
    "### クエリデータの読み込み"
   ]
  },
  {
   "cell_type": "code",
   "execution_count": 4,
   "metadata": {},
   "outputs": [
    {
     "name": "stdout",
     "output_type": "stream",
     "text": [
      "<class 'pandas.core.frame.DataFrame'>\n",
      "Int64Index: 2621288 entries, 0 to 2621287\n",
      "Data columns (total 9 columns):\n",
      " #   Column          Dtype \n",
      "---  ------          ----- \n",
      " 0   example_id      int64 \n",
      " 1   query           object\n",
      " 2   query_id        int64 \n",
      " 3   product_id      object\n",
      " 4   product_locale  object\n",
      " 5   esci_label      object\n",
      " 6   small_version   int64 \n",
      " 7   large_version   int64 \n",
      " 8   split           object\n",
      "dtypes: int64(4), object(5)\n",
      "memory usage: 200.0+ MB\n",
      "None\n"
     ]
    }
   ],
   "source": [
    "import pandas as pd\n",
    "\n",
    "query  = pd.read_parquet('../esci-data/shopping_queries_dataset/shopping_queries_dataset_examples.parquet')\n",
    "print(query.info())"
   ]
  },
  {
   "cell_type": "markdown",
   "metadata": {},
   "source": [
    "### 6. クエリデータの確認"
   ]
  },
  {
   "cell_type": "code",
   "execution_count": 5,
   "metadata": {},
   "outputs": [
    {
     "name": "stdout",
     "output_type": "stream",
     "text": [
      "         example_id        query  query_id  product_id product_locale  \\\n",
      "2393889     2393889  トロイメアフェニックス    121461  B078YXRMB9             jp   \n",
      "\n",
      "        esci_label  small_version  large_version  split  \n",
      "2393889          S              1              1  train  \n",
      "         example_id                   query  query_id  product_id  \\\n",
      "1842745     1842745  skip hop carseat cover     94155  B07DG4DVSN   \n",
      "\n",
      "        product_locale esci_label  small_version  large_version  split  \n",
      "1842745             us          I              0              1  train  \n",
      "        example_id                                     query  query_id  \\\n",
      "418598      418598  bubbling machine game for first birthday     20259   \n",
      "\n",
      "        product_id product_locale esci_label  small_version  large_version  \\\n",
      "418598  B07GBRTW48             us          I              0              1   \n",
      "\n",
      "        split  \n",
      "418598  train  \n",
      "        example_id                            query  query_id  product_id  \\\n",
      "554009      554009  coconut extract pure for baking     27321  B003AC5Q04   \n",
      "\n",
      "       product_locale esci_label  small_version  large_version  split  \n",
      "554009             us          S              1              1  train  \n",
      "        example_id                  query  query_id  product_id  \\\n",
      "443143      443143  calefactor infrarrojo     21534  B07LG8M6J2   \n",
      "\n",
      "       product_locale esci_label  small_version  large_version  split  \n",
      "443143             es          E              0              1  train  \n"
     ]
    }
   ],
   "source": [
    "import random\n",
    "from random import randint\n",
    "\n",
    "for _ in range(5):\n",
    "    num = randint(0, 2621287)\n",
    "    print(query[query['example_id'] == num])"
   ]
  },
  {
   "cell_type": "markdown",
   "metadata": {},
   "source": [
    "### 7. フィルタリング"
   ]
  },
  {
   "cell_type": "code",
   "execution_count": 6,
   "metadata": {},
   "outputs": [],
   "source": [
    "# 製品データのproduct_localeがusであるものを抽出する\n",
    "\n",
    "product_us = product[product['product_locale'] == 'us']"
   ]
  },
  {
   "cell_type": "code",
   "execution_count": 7,
   "metadata": {},
   "outputs": [],
   "source": [
    "# クエリデータのproduct_localeがusであるものを抽出する\n",
    "\n",
    "query_us = query[query['product_locale'] == 'us']"
   ]
  },
  {
   "cell_type": "markdown",
   "metadata": {},
   "source": [
    "### 8. 結合"
   ]
  },
  {
   "cell_type": "code",
   "execution_count": 8,
   "metadata": {},
   "outputs": [],
   "source": [
    "us_con = pd.merge(product_us, query_us, on='product_id', how='inner')"
   ]
  },
  {
   "cell_type": "code",
   "execution_count": 9,
   "metadata": {},
   "outputs": [],
   "source": [
    "us_con.to_csv('../data/us_con.csv')"
   ]
  },
  {
   "cell_type": "code",
   "execution_count": 12,
   "metadata": {},
   "outputs": [],
   "source": [
    "product_us.to_csv('../data/product_us.csv')\n",
    "query_us.to_csv('../data/query_us.csv')"
   ]
  },
  {
   "cell_type": "code",
   "execution_count": null,
   "metadata": {},
   "outputs": [],
   "source": []
  }
 ],
 "metadata": {
  "kernelspec": {
   "display_name": "ir100",
   "language": "python",
   "name": "python3"
  },
  "language_info": {
   "codemirror_mode": {
    "name": "ipython",
    "version": 3
   },
   "file_extension": ".py",
   "mimetype": "text/x-python",
   "name": "python",
   "nbconvert_exporter": "python",
   "pygments_lexer": "ipython3",
   "version": "3.9.19"
  }
 },
 "nbformat": 4,
 "nbformat_minor": 2
}
