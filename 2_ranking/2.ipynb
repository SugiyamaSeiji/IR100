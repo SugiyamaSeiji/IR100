{
 "cells": [
  {
   "cell_type": "markdown",
   "metadata": {},
   "source": [
    "### 0.　準備"
   ]
  },
  {
   "cell_type": "code",
   "execution_count": 1,
   "metadata": {},
   "outputs": [],
   "source": [
    "import pandas as pd\n",
    "\n",
    "product_us = pd.read_csv('../data/product_us.csv')"
   ]
  },
  {
   "cell_type": "code",
   "execution_count": 2,
   "metadata": {},
   "outputs": [],
   "source": [
    "invert_index = {}\n",
    "\n",
    "for index, row in product_us.iterrows():\n",
    "    texts = row['product_title'].split()\n",
    "\n",
    "    for text in texts:\n",
    "        # 単語がまだインデックスに存在しない場合、空のセットを作成します\n",
    "        if text not in invert_index:\n",
    "            invert_index[text] = {}\n",
    "\n",
    "        # 単語が特定の商品の出現回数を記録する辞書がまだ存在しない場合、新しい辞書を作成します\n",
    "        if row['product_id'] not in invert_index[text]:\n",
    "            invert_index[text][row['product_id']] = 0\n",
    "\n",
    "        # 出現回数をインクリメントします\n",
    "        invert_index[text][row['product_id']] += 1\n"
   ]
  },
  {
   "cell_type": "code",
   "execution_count": 3,
   "metadata": {},
   "outputs": [],
   "source": [
    "import json\n",
    "\n",
    "with open(\"../data/invert_index/invert_index_wordcount.json\", \"w\") as f:\n",
    "    json.dump(invert_index, f)"
   ]
  },
  {
   "cell_type": "code",
   "execution_count": 4,
   "metadata": {},
   "outputs": [],
   "source": [
    "import json\n",
    "with open(\"../data/invert_index/invert_index_wordcount.json\", \"r\") as f:\n",
    "    load_invert_index = json.load(f)"
   ]
  },
  {
   "cell_type": "code",
   "execution_count": 5,
   "metadata": {},
   "outputs": [],
   "source": [
    "invert_index = {}\n",
    "\n",
    "for key in load_invert_index.keys():\n",
    "    invert_index[key] = {x[0] : x[1] for x in sorted(load_invert_index[key].items())}"
   ]
  },
  {
   "cell_type": "markdown",
   "metadata": {},
   "source": [
    "### 1.　優先度つきキュー"
   ]
  },
  {
   "cell_type": "markdown",
   "metadata": {},
   "source": [
    "参考URL\n",
    "https://prd-xxx.hateblo.jp/entry/2019/06/24/235844"
   ]
  },
  {
   "cell_type": "code",
   "execution_count": 6,
   "metadata": {},
   "outputs": [],
   "source": [
    "import heapq\n",
    "class Heapq:\n",
    "    def __init__(self, arr, desc=False): # 大きい順 : desc=True, 小さい順 : desc=False\n",
    "        if desc:\n",
    "            arr=[-a for a in arr]\n",
    "        self.sign = -1 if desc else 1\n",
    "        self.hq = arr\n",
    "        heapq.heapify(self.hq)\n",
    "\n",
    "    def pop(self):\n",
    "        return heapq.heappop(self.hq) * self.sign\n",
    "    \n",
    "    def push(self, a):\n",
    "        heapq.heappush(self.hq, a*self.sign)\n",
    "\n",
    "    def top(self):\n",
    "        return self.hq[0] * self.sign"
   ]
  },
  {
   "cell_type": "code",
   "execution_count": 7,
   "metadata": {},
   "outputs": [],
   "source": [
    "size10 = Heapq([3, 5, 1, 8, 9, 2, 4, 6, 7, 0], False)"
   ]
  },
  {
   "cell_type": "code",
   "execution_count": 8,
   "metadata": {},
   "outputs": [
    {
     "name": "stdout",
     "output_type": "stream",
     "text": [
      "0\n",
      "1\n",
      "2\n",
      "3\n",
      "4\n",
      "5\n",
      "6\n",
      "7\n",
      "8\n",
      "9\n"
     ]
    }
   ],
   "source": [
    "for i in range(10):\n",
    "    print(size10.pop())"
   ]
  },
  {
   "cell_type": "markdown",
   "metadata": {},
   "source": [
    "### 2.　イテレータ"
   ]
  },
  {
   "cell_type": "code",
   "execution_count": 9,
   "metadata": {},
   "outputs": [],
   "source": [
    "class Wordcount:\n",
    "    def __init__(self, postinglist1, postinglist2):\n",
    "        self.postinglist1 = postinglist1\n",
    "        self.postinglist2 = postinglist2\n",
    "\n",
    "        self.id1 = self.postinglist1.keys() #　ポスティングリストのキーの一覧リスト\n",
    "        self.id2 = self.postinglist2.keys()\n",
    "\n",
    "        self.or_id = iter(sorted(set(self.id1) | set(self.id2))) # 少なくとも片方に含まれる製品のproduct_id\n",
    "\n",
    "    def __iter__(self):\n",
    "        return self\n",
    "    \n",
    "    def __next__(self):\n",
    "        try:\n",
    "            product_id = next(self.or_id)\n",
    "            word_count1 = self.postinglist1.get(product_id, 0)\n",
    "            word_count2 = self.postinglist2.get(product_id, 0)\n",
    "            return product_id, word_count1, word_count2\n",
    "        except StopIteration:\n",
    "            raise StopIteration()\n",
    "\n",
    "    "
   ]
  },
  {
   "cell_type": "code",
   "execution_count": 10,
   "metadata": {},
   "outputs": [
    {
     "name": "stdout",
     "output_type": "stream",
     "text": [
      "Product ID: 0692901159 count1 1 count2 0\n",
      "Product ID: 0982616309 count1 1 count2 0\n",
      "Product ID: 0996832203 count1 1 count2 0\n",
      "Product ID: 1544217560 count1 0 count2 1\n",
      "Product ID: 1563924269 count1 0 count2 1\n",
      "Product ID: 1563928124 count1 0 count2 1\n",
      "Product ID: 1620920107 count1 0 count2 1\n",
      "Product ID: 1620920743 count1 0 count2 1\n",
      "Product ID: 1620923505 count1 0 count2 1\n",
      "Product ID: 1620923890 count1 0 count2 1\n",
      "Product ID: 1703094875 count1 0 count2 1\n",
      "Product ID: 8934974427 count1 1 count2 0\n",
      "Product ID: B004YQCGLW count1 1 count2 0\n",
      "Product ID: B01HF3BJPY count1 1 count2 0\n",
      "Product ID: B01N4PEA3C count1 1 count2 0\n",
      "Product ID: B06XQJ4Q9G count1 1 count2 0\n",
      "Product ID: B072QBG11J count1 1 count2 0\n",
      "Product ID: B07818FJNP count1 1 count2 0\n",
      "Product ID: B07DTXM8L4 count1 1 count2 0\n",
      "Product ID: B07KV2P1HV count1 0 count2 1\n",
      "Product ID: B07WD1L8FS count1 1 count2 0\n",
      "Product ID: B08777HHVZ count1 1 count2 0\n",
      "Product ID: B088QN1MWZ count1 0 count2 1\n",
      "Product ID: B0897WT9N9 count1 0 count2 1\n",
      "Product ID: B08RC71GYV count1 0 count2 1\n"
     ]
    }
   ],
   "source": [
    "iterator = Wordcount(invert_index[\"science\"], invert_index[\"information\"])\n",
    "\n",
    "for product_id, count1, count2 in iterator:\n",
    "    print(\"Product ID:\", product_id, \"count1\", count1, \"count2\", count2)"
   ]
  },
  {
   "cell_type": "markdown",
   "metadata": {},
   "source": [
    "### 3. TF"
   ]
  },
  {
   "cell_type": "code",
   "execution_count": 11,
   "metadata": {},
   "outputs": [],
   "source": [
    "class WordcountSum:\n",
    "    def __init__(self, postinglist1, postinglist2):\n",
    "        self.postinglist1 = postinglist1\n",
    "        self.postinglist2 = postinglist2\n",
    "\n",
    "        self.id1 = self.postinglist1.keys() #　ポスティングリストのキーの一覧リスト\n",
    "        self.id2 = self.postinglist2.keys()\n",
    "\n",
    "        self.or_id = iter(sorted(set(self.id1) | set(self.id2))) # 少なくとも片方に含まれる製品のproduct_id\n",
    "\n",
    "    def __iter__(self):\n",
    "        return self\n",
    "    \n",
    "    def __next__(self):\n",
    "        try:\n",
    "            product_id = next(self.or_id)\n",
    "            word_count1 = self.postinglist1.get(product_id, 0)\n",
    "            word_count2 = self.postinglist2.get(product_id, 0)\n",
    "            word_count = word_count1 + word_count2 # ここが合計値となっている\n",
    "            return product_id, word_count\n",
    "        \n",
    "        except StopIteration:\n",
    "            raise StopIteration()\n",
    "\n",
    "    "
   ]
  },
  {
   "cell_type": "code",
   "execution_count": 12,
   "metadata": {},
   "outputs": [
    {
     "name": "stdout",
     "output_type": "stream",
     "text": [
      "Product ID: B004EFLOFM\n",
      "Product Title: 132339    Coax Cable - Coaxial Cable Connector - 6ft Ant...\n",
      "Name: product_title, dtype: object\n",
      "TF Sum: 7\n",
      "---------\n",
      "Product ID: B008APMTEW\n",
      "Product Title: 132260    Coax Cable Connector - Coaxial Cable Connector...\n",
      "Name: product_title, dtype: object\n",
      "TF Sum: 7\n",
      "---------\n",
      "Product ID: B07RKN7BVS\n",
      "Product Title: 941181    HDMI Fiber Cable Slim,100FT Light Speed HDMI 2...\n",
      "Name: product_title, dtype: object\n",
      "TF Sum: 7\n",
      "---------\n",
      "Product ID: B088BLPQSD\n",
      "Product Title: 1054798    Duttek Mini HDMI to HDMI Cable, HDMI to Mini H...\n",
      "Name: product_title, dtype: object\n",
      "TF Sum: 7\n",
      "---------\n",
      "Product ID: B08F9V3XBJ\n",
      "Product Title: 1054827    HDMI to VGA HDMI Adapter, Onten HDMI Splitter ...\n",
      "Name: product_title, dtype: object\n",
      "TF Sum: 7\n",
      "---------\n",
      "Product ID: B0160BHPG4\n",
      "Product Title: 132835    4K HDMI Cable -KAYO High Speed HDMI 2.0b Cable...\n",
      "Name: product_title, dtype: object\n",
      "TF Sum: 6\n",
      "---------\n",
      "Product ID: B06XT2JS1G\n",
      "Product Title: 492316    Cerrxian 0.5m High Speed HDMI 2.0 HDMI Left An...\n",
      "Name: product_title, dtype: object\n",
      "TF Sum: 6\n",
      "---------\n",
      "Product ID: B075T7LRSF\n",
      "Product Title: 326016    Syncwire HDMI Cable 4K HDMI 2.0 Cable 10 ft Hi...\n",
      "Name: product_title, dtype: object\n",
      "TF Sum: 6\n",
      "---------\n",
      "Product ID: B07FQH4Z1C\n",
      "Product Title: 837176    4K HDMI Cable,Capshi 15FT HDMI Cord High Speed...\n",
      "Name: product_title, dtype: object\n",
      "TF Sum: 6\n",
      "---------\n",
      "Product ID: B07PXGNXR3\n",
      "Product Title: 582494    Unicorn Cable Chomper | Cord Protector Animals...\n",
      "Name: product_title, dtype: object\n",
      "TF Sum: 6\n",
      "---------\n",
      "Product ID: B07S91FT8R\n",
      "Product Title: 1131112    4K HDMI Cable,Capshi 20FT HDMI Cord High Speed...\n",
      "Name: product_title, dtype: object\n",
      "TF Sum: 6\n",
      "---------\n",
      "Product ID: B07VC412L9\n",
      "Product Title: 505342    SMALLRIG Cable Clamp Lock for HDMI Cable Micro...\n",
      "Name: product_title, dtype: object\n",
      "TF Sum: 6\n",
      "---------\n",
      "Product ID: B083H6PSVJ\n",
      "Product Title: 18592    DisplayPort to HDMI, Answin 6ft 4K DisplayPort...\n",
      "Name: product_title, dtype: object\n",
      "TF Sum: 6\n",
      "---------\n",
      "Product ID: B083K63TLJ\n",
      "Product Title: 1054734    HDMI Cable 6.6ft (4K 60HZ, HDMI 2.0, 18Gbps), ...\n",
      "Name: product_title, dtype: object\n",
      "TF Sum: 6\n",
      "---------\n",
      "Product ID: B083R56QNF\n",
      "Product Title: 837191    Highwings 4K HDMI Cable 3.3FT-2PACK(4K@60Hz, H...\n",
      "Name: product_title, dtype: object\n",
      "TF Sum: 6\n",
      "---------\n",
      "Product ID: B085FTXKMG\n",
      "Product Title: 8650    High Speed HDMI Cable 15ft (4K 60HZ, HDMI 2.0,...\n",
      "Name: product_title, dtype: object\n",
      "TF Sum: 6\n",
      "---------\n",
      "Product ID: B0002XGA0E\n",
      "Product Title: 11470    StarTech.com Cat5e Ethernet Cable - 20 ft - Bl...\n",
      "Name: product_title, dtype: object\n",
      "TF Sum: 5\n",
      "---------\n",
      "Product ID: B00066HPEC\n",
      "Product Title: 114693    StarTech.com Cat5e Ethernet Cable - 10 ft - Bl...\n",
      "Name: product_title, dtype: object\n",
      "TF Sum: 5\n",
      "---------\n",
      "Product ID: B004C3HZCC\n",
      "Product Title: 746996    Cable Matters High Speed HDMI to Micro HDMI Ca...\n",
      "Name: product_title, dtype: object\n",
      "TF Sum: 5\n",
      "---------\n",
      "Product ID: B005H4Y6YK\n",
      "Product Title: 746997    Cable Matters High Speed HDMI to Mini HDMI Cab...\n",
      "Name: product_title, dtype: object\n",
      "TF Sum: 5\n",
      "---------\n"
     ]
    }
   ],
   "source": [
    "iterator = WordcountSum(invert_index[\"HDMI\"], invert_index[\"Cable\"])\n",
    "\n",
    "hq = [] \n",
    "for product_id, tf_sum in iterator:\n",
    "    heapq.heappush(hq, (-tf_sum, product_id)) # heapq.heappush(ヒープ, (優先度(キー), 実際のデータ))　タプル形式で解く\n",
    "\n",
    "# while hq:\n",
    "#     tf_sum, product_id = heapq.heappop(hq)\n",
    "#     print(\"Product ID:\", product_id, \"| Product Title:\", product_us[product_us['product_id'] == product_id]['product_title'], \"| TF Sum:\", -tf_sum)\n",
    "\n",
    "for i in range(20):\n",
    "    tf_sum, product_id = heapq.heappop(hq)\n",
    "    print(\"Product ID:\", product_id)\n",
    "    print(\"Product Title:\", product_us[product_us['product_id'] == product_id]['product_title'])\n",
    "    print(\"TF Sum:\", -tf_sum)\n",
    "    print(\"---------\")"
   ]
  },
  {
   "cell_type": "markdown",
   "metadata": {},
   "source": [
    "### 4. TFIDF"
   ]
  },
  {
   "cell_type": "markdown",
   "metadata": {},
   "source": [
    "pip install rank_bm25"
   ]
  },
  {
   "cell_type": "code",
   "execution_count": 13,
   "metadata": {},
   "outputs": [],
   "source": [
    "from rank_bm25 import BM25Okapi\n",
    "\n",
    "def caluculate_idf(product_us):\n",
    "    titles = []\n",
    "    for index, row in product_us.iterrows():\n",
    "        texts = row['product_title'].split()\n",
    "        titles.append(texts)\n",
    "    bm25 = BM25Okapi(titles)\n",
    "    return bm25\n",
    "\n",
    "bm25 = caluculate_idf(product_us)"
   ]
  },
  {
   "cell_type": "code",
   "execution_count": 14,
   "metadata": {},
   "outputs": [
    {
     "name": "stdout",
     "output_type": "stream",
     "text": [
      "Product ID: B08F9V3XBJ\n",
      "Product Title: 1054827    HDMI to VGA HDMI Adapter, Onten HDMI Splitter ...\n",
      "Name: product_title, dtype: object\n",
      "TF Sum: 42.76059428009977\n",
      "---------\n",
      "Product ID: B088BLPQSD\n",
      "Product Title: 1054798    Duttek Mini HDMI to HDMI Cable, HDMI to Mini H...\n",
      "Name: product_title, dtype: object\n",
      "TF Sum: 41.31667759623826\n",
      "---------\n",
      "Product ID: B07RKN7BVS\n",
      "Product Title: 941181    HDMI Fiber Cable Slim,100FT Light Speed HDMI 2...\n",
      "Name: product_title, dtype: object\n",
      "TF Sum: 38.428844228515246\n",
      "---------\n",
      "Product ID: B07FQH4Z1C\n",
      "Product Title: 837176    4K HDMI Cable,Capshi 15FT HDMI Cord High Speed...\n",
      "Name: product_title, dtype: object\n",
      "TF Sum: 35.208021270509725\n",
      "---------\n",
      "Product ID: B07S91FT8R\n",
      "Product Title: 1131112    4K HDMI Cable,Capshi 20FT HDMI Cord High Speed...\n",
      "Name: product_title, dtype: object\n",
      "TF Sum: 35.208021270509725\n",
      "---------\n",
      "Product ID: B06XT2JS1G\n",
      "Product Title: 492316    Cerrxian 0.5m High Speed HDMI 2.0 HDMI Left An...\n",
      "Name: product_title, dtype: object\n",
      "TF Sum: 33.764104586648216\n",
      "---------\n",
      "Product ID: B075T7LRSF\n",
      "Product Title: 326016    Syncwire HDMI Cable 4K HDMI 2.0 Cable 10 ft Hi...\n",
      "Name: product_title, dtype: object\n",
      "TF Sum: 33.764104586648216\n",
      "---------\n",
      "Product ID: B083H6PSVJ\n",
      "Product Title: 18592    DisplayPort to HDMI, Answin 6ft 4K DisplayPort...\n",
      "Name: product_title, dtype: object\n",
      "TF Sum: 33.764104586648216\n",
      "---------\n",
      "Product ID: B083K63TLJ\n",
      "Product Title: 1054734    HDMI Cable 6.6ft (4K 60HZ, HDMI 2.0, 18Gbps), ...\n",
      "Name: product_title, dtype: object\n",
      "TF Sum: 33.764104586648216\n",
      "---------\n",
      "Product ID: B083R56QNF\n",
      "Product Title: 837191    Highwings 4K HDMI Cable 3.3FT-2PACK(4K@60Hz, H...\n",
      "Name: product_title, dtype: object\n",
      "TF Sum: 33.764104586648216\n",
      "---------\n",
      "Product ID: B085FTXKMG\n",
      "Product Title: 8650    High Speed HDMI Cable 15ft (4K 60HZ, HDMI 2.0,...\n",
      "Name: product_title, dtype: object\n",
      "TF Sum: 33.764104586648216\n",
      "---------\n",
      "Product ID: B004EFLOFM\n",
      "Product Title: 132339    Coax Cable - Coaxial Cable Connector - 6ft Ant...\n",
      "Name: product_title, dtype: object\n",
      "TF Sum: 32.65317749306922\n",
      "---------\n",
      "Product ID: B008APMTEW\n",
      "Product Title: 132260    Coax Cable Connector - Coaxial Cable Connector...\n",
      "Name: product_title, dtype: object\n",
      "TF Sum: 32.65317749306922\n",
      "---------\n",
      "Product ID: B0160BHPG4\n",
      "Product Title: 132835    4K HDMI Cable -KAYO High Speed HDMI 2.0b Cable...\n",
      "Name: product_title, dtype: object\n",
      "TF Sum: 32.32018790278671\n",
      "---------\n",
      "Product ID: B078H5RN4F\n",
      "Product Title: 249859    1x4 HDMI Splitter Adapter, OTYTY V1.4 Mini HDM...\n",
      "Name: product_title, dtype: object\n",
      "TF Sum: 30.543281628642692\n",
      "---------\n",
      "Product ID: B07KSXWHX7\n",
      "Product Title: 1054775    HDMI Switch 4k HDMI Splitter-Techole Aluminum ...\n",
      "Name: product_title, dtype: object\n",
      "TF Sum: 30.543281628642692\n",
      "---------\n",
      "Product ID: B07PMGBVV8\n",
      "Product Title: 136946    LiNKFOR 1080P HDMI to Component Converter Scal...\n",
      "Name: product_title, dtype: object\n",
      "TF Sum: 30.543281628642692\n",
      "---------\n",
      "Product ID: B07VFSS69R\n",
      "Product Title: 770857    HDMI Switch 4K HDMI Splitter, Koopman Aluminum...\n",
      "Name: product_title, dtype: object\n",
      "TF Sum: 30.543281628642692\n",
      "---------\n",
      "Product ID: B08GWQ9KS9\n",
      "Product Title: 516999    HDMI Splitter 4K60Hz, 4K HDMI Splitter 1 in 2 ...\n",
      "Name: product_title, dtype: object\n",
      "TF Sum: 30.543281628642692\n",
      "---------\n",
      "Product ID: B07VC412L9\n",
      "Product Title: 505342    SMALLRIG Cable Clamp Lock for HDMI Cable Micro...\n",
      "Name: product_title, dtype: object\n",
      "TF Sum: 29.432354535063695\n",
      "---------\n"
     ]
    }
   ],
   "source": [
    "import heapq\n",
    "wordcount = Wordcount(invert_index[\"HDMI\"], invert_index[\"Cable\"])\n",
    "\n",
    "hq = [] \n",
    "for product_id, hdmi_tf, cable_tf in wordcount:\n",
    "\n",
    "    tfidf = hdmi_tf * bm25.idf[\"HDMI\"] + cable_tf * bm25.idf[\"Cable\"]\n",
    "\n",
    "    heapq.heappush(hq, (-tfidf, product_id)) # heapq.heappush(ヒープ, (優先度(キー), 実際のデータ))　タプル形式で解く\n",
    "\n",
    "for i in range(20):\n",
    "    tf_idf, product_id = heapq.heappop(hq)\n",
    "    print(\"Product ID:\", product_id)\n",
    "    print(\"Product Title:\", product_us[product_us['product_id'] == product_id]['product_title'])\n",
    "    print(\"TF Sum:\", -tf_idf)\n",
    "    print(\"---------\")"
   ]
  },
  {
   "cell_type": "markdown",
   "metadata": {},
   "source": [
    "### 5. フィールド長"
   ]
  },
  {
   "cell_type": "code",
   "execution_count": 15,
   "metadata": {},
   "outputs": [],
   "source": [
    "field = {}\n",
    "\n",
    "for index, row in product_us.iterrows():\n",
    "    texts = row['product_title'].split()\n",
    "    field[row['product_id']] = len(texts)\n",
    "    \n"
   ]
  },
  {
   "cell_type": "code",
   "execution_count": 16,
   "metadata": {},
   "outputs": [
    {
     "name": "stdout",
     "output_type": "stream",
     "text": [
      "フィール長の平均:16.63483773545179\n"
     ]
    }
   ],
   "source": [
    "# フィールド長の平均\n",
    "\n",
    "sum = 0\n",
    "for key, value in field.items():\n",
    "    sum += field[key]\n",
    "\n",
    "print(f'フィール長の平均:{sum / len(field)}')"
   ]
  },
  {
   "cell_type": "markdown",
   "metadata": {},
   "source": [
    "### 6. BM25"
   ]
  },
  {
   "cell_type": "code",
   "execution_count": 17,
   "metadata": {},
   "outputs": [],
   "source": [
    "import heapq\n",
    "query = \"Cable HDMI\"\n",
    "bm25_score = bm25.get_scores(query)\n",
    "\n",
    "hq = []\n",
    "for score, product_id in zip(bm25_score, product_us['product_id']):\n",
    "    heapq.heappush(hq, (-score, product_id))"
   ]
  },
  {
   "cell_type": "code",
   "execution_count": 18,
   "metadata": {},
   "outputs": [
    {
     "name": "stdout",
     "output_type": "stream",
     "text": [
      "Product ID: B01E7KBXWC\n",
      "Product Title: 983981    C h a n e l no.5 EDP Spray for women 3.4 OZ/10...\n",
      "Name: product_title, dtype: object\n",
      "BM25: 30.323506523674666\n",
      "---------\n",
      "Product ID: B07C5GFF4C\n",
      "Product Title: 72490    G r e a t e s t H i t s\n",
      "Name: product_title, dtype: object\n",
      "BM25: 27.262040577740066\n",
      "---------\n",
      "Product ID: B07WSF4KJ9\n",
      "Product Title: 1073398    B e a u t y . B e h i n d . M a d n e s s\n",
      "Name: product_title, dtype: object\n",
      "BM25: 24.17180805278996\n",
      "---------\n",
      "Product ID: B08F2LZH1G\n",
      "Product Title: 921400    M e g a h i t s\n",
      "Name: product_title, dtype: object\n",
      "BM25: 23.365999905955675\n",
      "---------\n",
      "Product ID: B01N6WS03S\n",
      "Product Title: 41015    StreetCalledDesire & M o r e\n",
      "Name: product_title, dtype: object\n",
      "BM25: 18.904161811366524\n",
      "---------\n",
      "Product ID: B082LVV8FY\n",
      "Product Title: 589379    Vine Vera | Resveratrol l Vitamin C Moisturizer\n",
      "Name: product_title, dtype: object\n",
      "BM25: 18.721562732252508\n",
      "---------\n",
      "Product ID: B00LVMMAY0\n",
      "Product Title: 248285    Baby Trend Hybrid Booster 3 in 1 Car Seat, Ozo...\n",
      "Name: product_title, dtype: object\n",
      "BM25: 18.496663127371683\n",
      "---------\n",
      "Product ID: B002OFQBH0\n",
      "Product Title: 324018    LIVING NATURE I 100% NATURAL JET BLACK THICKEN...\n",
      "Name: product_title, dtype: object\n",
      "BM25: 17.678481629988855\n",
      "---------\n",
      "Product ID: B0787DFVZ8\n",
      "Product Title: 104119    Monogram Acrylic Letter Cake Toppers In Brushe...\n",
      "Name: product_title, dtype: object\n",
      "BM25: 17.673094264865313\n",
      "---------\n",
      "Product ID: B00AU5A2YY\n",
      "Product Title: 1073088    Lady Almina e a verdadeira Downton Abbey (Port...\n",
      "Name: product_title, dtype: object\n",
      "BM25: 17.409327634493938\n",
      "---------\n",
      "Product ID: B00P3AUQL0\n",
      "Product Title: 104115    Buythrow Cake Toppers Initial Custom Wedding C...\n",
      "Name: product_title, dtype: object\n",
      "BM25: 17.370117248054346\n",
      "---------\n",
      "Product ID: B081SBWXS8\n",
      "Product Title: 74179    N U C I F I C - Bio-X4 4-in-1 Probiotic\n",
      "Name: product_title, dtype: object\n",
      "BM25: 17.284384152818866\n",
      "---------\n",
      "Product ID: B08DQL5QC4\n",
      "Product Title: 705809    Science Shirt Fauci F Au C I Trust Wear a Mask...\n",
      "Name: product_title, dtype: object\n",
      "BM25: 16.392520039599663\n",
      "---------\n",
      "Product ID: B083G1LYGS\n",
      "Product Title: 741213    Ihea 'oe i ka wa a ka ua e loku ana?\n",
      "Name: product_title, dtype: object\n",
      "BM25: 16.29802781006677\n",
      "---------\n",
      "Product ID: B07HFVJP1K\n",
      "Product Title: 16575    Limitless Kid's 3D Backpack l Spiderman Editio...\n",
      "Name: product_title, dtype: object\n",
      "BM25: 16.246654069177946\n",
      "---------\n",
      "Product ID: B07BGL91LQ\n",
      "Product Title: 874823    Premiere Products 5RCATA Tan Convert A Bench, ...\n",
      "Name: product_title, dtype: object\n",
      "BM25: 16.10280640814872\n",
      "---------\n",
      "Product ID: 0998434981\n",
      "Product Title: 680717    I am not a princess I am a complete fairytale\n",
      "Name: product_title, dtype: object\n",
      "BM25: 15.843810554111691\n",
      "---------\n",
      "Product ID: B08NRWD88P\n",
      "Product Title: 112911    I D Cash Out But I M Not A Quitter Gambling Po...\n",
      "Name: product_title, dtype: object\n",
      "BM25: 15.57352754642459\n",
      "---------\n",
      "Product ID: B081P3TRFR\n",
      "Product Title: 799495    Gabrielle C hàNè l Eau De Parfum Spray For Wom...\n",
      "Name: product_title, dtype: object\n",
      "BM25: 15.449655592418832\n",
      "---------\n",
      "Product ID: B00C19ZHWE\n",
      "Product Title: 324020    LIVING NATURE I00% NATURAL GENTLE MAKEUP REMOV...\n",
      "Name: product_title, dtype: object\n",
      "BM25: 15.404405847435417\n",
      "---------\n"
     ]
    }
   ],
   "source": [
    "for i in range(20):\n",
    "    score, product_id = heapq.heappop(hq)\n",
    "    print(\"Product ID:\", product_id)\n",
    "    print(\"Product Title:\", product_us[product_us['product_id'] == product_id]['product_title'])\n",
    "    print(\"BM25:\", -score)\n",
    "    print(\"---------\")"
   ]
  }
 ],
 "metadata": {
  "kernelspec": {
   "display_name": "ir100",
   "language": "python",
   "name": "python3"
  },
  "language_info": {
   "codemirror_mode": {
    "name": "ipython",
    "version": 3
   },
   "file_extension": ".py",
   "mimetype": "text/x-python",
   "name": "python",
   "nbconvert_exporter": "python",
   "pygments_lexer": "ipython3",
   "version": "3.9.19"
  }
 },
 "nbformat": 4,
 "nbformat_minor": 2
}
